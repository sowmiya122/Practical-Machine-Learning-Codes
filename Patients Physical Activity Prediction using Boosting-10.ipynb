{
 "cells": [
  {
   "cell_type": "markdown",
   "id": "96c732b8",
   "metadata": {},
   "source": [
    "## Lab 10: Patients Physical Activities prediction using Boosting"
   ]
  },
  {
   "cell_type": "markdown",
   "id": "68782589",
   "metadata": {},
   "source": [
    "### 225229138-SOWMIYA B"
   ]
  },
  {
   "cell_type": "markdown",
   "id": "bfc4b848",
   "metadata": {},
   "source": [
    "## Step 1: Understand Data"
   ]
  },
  {
   "cell_type": "code",
   "execution_count": 1,
   "id": "85a7b99b",
   "metadata": {},
   "outputs": [],
   "source": [
    "import pandas as pd\n",
    "from sklearn.model_selection import train_test_split\n",
    "import warnings\n",
    "warnings.filterwarnings('ignore')\n",
    "from sklearn.metrics import precision_score, recall_score,accuracy_score,roc_auc_score,classification_report\n",
    "from sklearn.ensemble import GradientBoostingClassifier,AdaBoostClassifier\n",
    "from sklearn.model_selection import GridSearchCV\n",
    "from sklearn.linear_model import LogisticRegressionCV\n",
    "from sklearn.ensemble import RandomForestClassifier, VotingClassifier\n",
    "from sklearn.tree import DecisionTreeClassifier\n",
    "from sklearn.model_selection import cross_val_score"
   ]
  },
  {
   "cell_type": "code",
   "execution_count": 2,
   "id": "1339725a",
   "metadata": {},
   "outputs": [],
   "source": [
    "df = pd.read_csv(\"Human_Activity_Data.csv\")"
   ]
  },
  {
   "cell_type": "code",
   "execution_count": 3,
   "id": "93aa8fa1",
   "metadata": {},
   "outputs": [
    {
     "data": {
      "text/html": [
       "<div>\n",
       "<style scoped>\n",
       "    .dataframe tbody tr th:only-of-type {\n",
       "        vertical-align: middle;\n",
       "    }\n",
       "\n",
       "    .dataframe tbody tr th {\n",
       "        vertical-align: top;\n",
       "    }\n",
       "\n",
       "    .dataframe thead th {\n",
       "        text-align: right;\n",
       "    }\n",
       "</style>\n",
       "<table border=\"1\" class=\"dataframe\">\n",
       "  <thead>\n",
       "    <tr style=\"text-align: right;\">\n",
       "      <th></th>\n",
       "      <th>tBodyAcc-mean()-X</th>\n",
       "      <th>tBodyAcc-mean()-Y</th>\n",
       "      <th>tBodyAcc-mean()-Z</th>\n",
       "      <th>tBodyAcc-std()-X</th>\n",
       "      <th>tBodyAcc-std()-Y</th>\n",
       "      <th>tBodyAcc-std()-Z</th>\n",
       "      <th>tBodyAcc-mad()-X</th>\n",
       "      <th>tBodyAcc-mad()-Y</th>\n",
       "      <th>tBodyAcc-mad()-Z</th>\n",
       "      <th>tBodyAcc-max()-X</th>\n",
       "      <th>...</th>\n",
       "      <th>fBodyBodyGyroJerkMag-skewness()</th>\n",
       "      <th>fBodyBodyGyroJerkMag-kurtosis()</th>\n",
       "      <th>angle(tBodyAccMean,gravity)</th>\n",
       "      <th>angle(tBodyAccJerkMean),gravityMean)</th>\n",
       "      <th>angle(tBodyGyroMean,gravityMean)</th>\n",
       "      <th>angle(tBodyGyroJerkMean,gravityMean)</th>\n",
       "      <th>angle(X,gravityMean)</th>\n",
       "      <th>angle(Y,gravityMean)</th>\n",
       "      <th>angle(Z,gravityMean)</th>\n",
       "      <th>Activity</th>\n",
       "    </tr>\n",
       "  </thead>\n",
       "  <tbody>\n",
       "    <tr>\n",
       "      <th>0</th>\n",
       "      <td>0.288585</td>\n",
       "      <td>-0.020294</td>\n",
       "      <td>-0.132905</td>\n",
       "      <td>-0.995279</td>\n",
       "      <td>-0.983111</td>\n",
       "      <td>-0.913526</td>\n",
       "      <td>-0.995112</td>\n",
       "      <td>-0.983185</td>\n",
       "      <td>-0.923527</td>\n",
       "      <td>-0.934724</td>\n",
       "      <td>...</td>\n",
       "      <td>-0.298676</td>\n",
       "      <td>-0.710304</td>\n",
       "      <td>-0.112754</td>\n",
       "      <td>0.030400</td>\n",
       "      <td>-0.464761</td>\n",
       "      <td>-0.018446</td>\n",
       "      <td>-0.841247</td>\n",
       "      <td>0.179941</td>\n",
       "      <td>-0.058627</td>\n",
       "      <td>STANDING</td>\n",
       "    </tr>\n",
       "    <tr>\n",
       "      <th>1</th>\n",
       "      <td>0.278419</td>\n",
       "      <td>-0.016411</td>\n",
       "      <td>-0.123520</td>\n",
       "      <td>-0.998245</td>\n",
       "      <td>-0.975300</td>\n",
       "      <td>-0.960322</td>\n",
       "      <td>-0.998807</td>\n",
       "      <td>-0.974914</td>\n",
       "      <td>-0.957686</td>\n",
       "      <td>-0.943068</td>\n",
       "      <td>...</td>\n",
       "      <td>-0.595051</td>\n",
       "      <td>-0.861499</td>\n",
       "      <td>0.053477</td>\n",
       "      <td>-0.007435</td>\n",
       "      <td>-0.732626</td>\n",
       "      <td>0.703511</td>\n",
       "      <td>-0.844788</td>\n",
       "      <td>0.180289</td>\n",
       "      <td>-0.054317</td>\n",
       "      <td>STANDING</td>\n",
       "    </tr>\n",
       "    <tr>\n",
       "      <th>2</th>\n",
       "      <td>0.279653</td>\n",
       "      <td>-0.019467</td>\n",
       "      <td>-0.113462</td>\n",
       "      <td>-0.995380</td>\n",
       "      <td>-0.967187</td>\n",
       "      <td>-0.978944</td>\n",
       "      <td>-0.996520</td>\n",
       "      <td>-0.963668</td>\n",
       "      <td>-0.977469</td>\n",
       "      <td>-0.938692</td>\n",
       "      <td>...</td>\n",
       "      <td>-0.390748</td>\n",
       "      <td>-0.760104</td>\n",
       "      <td>-0.118559</td>\n",
       "      <td>0.177899</td>\n",
       "      <td>0.100699</td>\n",
       "      <td>0.808529</td>\n",
       "      <td>-0.848933</td>\n",
       "      <td>0.180637</td>\n",
       "      <td>-0.049118</td>\n",
       "      <td>STANDING</td>\n",
       "    </tr>\n",
       "    <tr>\n",
       "      <th>3</th>\n",
       "      <td>0.279174</td>\n",
       "      <td>-0.026201</td>\n",
       "      <td>-0.123283</td>\n",
       "      <td>-0.996091</td>\n",
       "      <td>-0.983403</td>\n",
       "      <td>-0.990675</td>\n",
       "      <td>-0.997099</td>\n",
       "      <td>-0.982750</td>\n",
       "      <td>-0.989302</td>\n",
       "      <td>-0.938692</td>\n",
       "      <td>...</td>\n",
       "      <td>-0.117290</td>\n",
       "      <td>-0.482845</td>\n",
       "      <td>-0.036788</td>\n",
       "      <td>-0.012892</td>\n",
       "      <td>0.640011</td>\n",
       "      <td>-0.485366</td>\n",
       "      <td>-0.848649</td>\n",
       "      <td>0.181935</td>\n",
       "      <td>-0.047663</td>\n",
       "      <td>STANDING</td>\n",
       "    </tr>\n",
       "    <tr>\n",
       "      <th>4</th>\n",
       "      <td>0.276629</td>\n",
       "      <td>-0.016570</td>\n",
       "      <td>-0.115362</td>\n",
       "      <td>-0.998139</td>\n",
       "      <td>-0.980817</td>\n",
       "      <td>-0.990482</td>\n",
       "      <td>-0.998321</td>\n",
       "      <td>-0.979672</td>\n",
       "      <td>-0.990441</td>\n",
       "      <td>-0.942469</td>\n",
       "      <td>...</td>\n",
       "      <td>-0.351471</td>\n",
       "      <td>-0.699205</td>\n",
       "      <td>0.123320</td>\n",
       "      <td>0.122542</td>\n",
       "      <td>0.693578</td>\n",
       "      <td>-0.615971</td>\n",
       "      <td>-0.847865</td>\n",
       "      <td>0.185151</td>\n",
       "      <td>-0.043892</td>\n",
       "      <td>STANDING</td>\n",
       "    </tr>\n",
       "  </tbody>\n",
       "</table>\n",
       "<p>5 rows × 562 columns</p>\n",
       "</div>"
      ],
      "text/plain": [
       "   tBodyAcc-mean()-X  tBodyAcc-mean()-Y  tBodyAcc-mean()-Z  tBodyAcc-std()-X  \\\n",
       "0           0.288585          -0.020294          -0.132905         -0.995279   \n",
       "1           0.278419          -0.016411          -0.123520         -0.998245   \n",
       "2           0.279653          -0.019467          -0.113462         -0.995380   \n",
       "3           0.279174          -0.026201          -0.123283         -0.996091   \n",
       "4           0.276629          -0.016570          -0.115362         -0.998139   \n",
       "\n",
       "   tBodyAcc-std()-Y  tBodyAcc-std()-Z  tBodyAcc-mad()-X  tBodyAcc-mad()-Y  \\\n",
       "0         -0.983111         -0.913526         -0.995112         -0.983185   \n",
       "1         -0.975300         -0.960322         -0.998807         -0.974914   \n",
       "2         -0.967187         -0.978944         -0.996520         -0.963668   \n",
       "3         -0.983403         -0.990675         -0.997099         -0.982750   \n",
       "4         -0.980817         -0.990482         -0.998321         -0.979672   \n",
       "\n",
       "   tBodyAcc-mad()-Z  tBodyAcc-max()-X  ...  fBodyBodyGyroJerkMag-skewness()  \\\n",
       "0         -0.923527         -0.934724  ...                        -0.298676   \n",
       "1         -0.957686         -0.943068  ...                        -0.595051   \n",
       "2         -0.977469         -0.938692  ...                        -0.390748   \n",
       "3         -0.989302         -0.938692  ...                        -0.117290   \n",
       "4         -0.990441         -0.942469  ...                        -0.351471   \n",
       "\n",
       "   fBodyBodyGyroJerkMag-kurtosis()  angle(tBodyAccMean,gravity)  \\\n",
       "0                        -0.710304                    -0.112754   \n",
       "1                        -0.861499                     0.053477   \n",
       "2                        -0.760104                    -0.118559   \n",
       "3                        -0.482845                    -0.036788   \n",
       "4                        -0.699205                     0.123320   \n",
       "\n",
       "   angle(tBodyAccJerkMean),gravityMean)  angle(tBodyGyroMean,gravityMean)  \\\n",
       "0                              0.030400                         -0.464761   \n",
       "1                             -0.007435                         -0.732626   \n",
       "2                              0.177899                          0.100699   \n",
       "3                             -0.012892                          0.640011   \n",
       "4                              0.122542                          0.693578   \n",
       "\n",
       "   angle(tBodyGyroJerkMean,gravityMean)  angle(X,gravityMean)  \\\n",
       "0                             -0.018446             -0.841247   \n",
       "1                              0.703511             -0.844788   \n",
       "2                              0.808529             -0.848933   \n",
       "3                             -0.485366             -0.848649   \n",
       "4                             -0.615971             -0.847865   \n",
       "\n",
       "   angle(Y,gravityMean)  angle(Z,gravityMean)  Activity  \n",
       "0              0.179941             -0.058627  STANDING  \n",
       "1              0.180289             -0.054317  STANDING  \n",
       "2              0.180637             -0.049118  STANDING  \n",
       "3              0.181935             -0.047663  STANDING  \n",
       "4              0.185151             -0.043892  STANDING  \n",
       "\n",
       "[5 rows x 562 columns]"
      ]
     },
     "execution_count": 3,
     "metadata": {},
     "output_type": "execute_result"
    }
   ],
   "source": [
    "df.head()"
   ]
  },
  {
   "cell_type": "code",
   "execution_count": 4,
   "id": "d7937d75",
   "metadata": {},
   "outputs": [
    {
     "data": {
      "text/plain": [
       "(10299, 562)"
      ]
     },
     "execution_count": 4,
     "metadata": {},
     "output_type": "execute_result"
    }
   ],
   "source": [
    "df.shape"
   ]
  },
  {
   "cell_type": "code",
   "execution_count": 5,
   "id": "eb38abe4",
   "metadata": {},
   "outputs": [
    {
     "data": {
      "text/plain": [
       "Index(['tBodyAcc-mean()-X', 'tBodyAcc-mean()-Y', 'tBodyAcc-mean()-Z',\n",
       "       'tBodyAcc-std()-X', 'tBodyAcc-std()-Y', 'tBodyAcc-std()-Z',\n",
       "       'tBodyAcc-mad()-X', 'tBodyAcc-mad()-Y', 'tBodyAcc-mad()-Z',\n",
       "       'tBodyAcc-max()-X',\n",
       "       ...\n",
       "       'fBodyBodyGyroJerkMag-skewness()', 'fBodyBodyGyroJerkMag-kurtosis()',\n",
       "       'angle(tBodyAccMean,gravity)', 'angle(tBodyAccJerkMean),gravityMean)',\n",
       "       'angle(tBodyGyroMean,gravityMean)',\n",
       "       'angle(tBodyGyroJerkMean,gravityMean)', 'angle(X,gravityMean)',\n",
       "       'angle(Y,gravityMean)', 'angle(Z,gravityMean)', 'Activity'],\n",
       "      dtype='object', length=562)"
      ]
     },
     "execution_count": 5,
     "metadata": {},
     "output_type": "execute_result"
    }
   ],
   "source": [
    "df.columns"
   ]
  },
  {
   "cell_type": "code",
   "execution_count": 6,
   "id": "6d33d67c",
   "metadata": {},
   "outputs": [
    {
     "data": {
      "text/plain": [
       "tBodyAcc-mean()-X                       float64\n",
       "tBodyAcc-mean()-Y                       float64\n",
       "tBodyAcc-mean()-Z                       float64\n",
       "tBodyAcc-std()-X                        float64\n",
       "tBodyAcc-std()-Y                        float64\n",
       "                                         ...   \n",
       "angle(tBodyGyroJerkMean,gravityMean)    float64\n",
       "angle(X,gravityMean)                    float64\n",
       "angle(Y,gravityMean)                    float64\n",
       "angle(Z,gravityMean)                    float64\n",
       "Activity                                 object\n",
       "Length: 562, dtype: object"
      ]
     },
     "execution_count": 6,
     "metadata": {},
     "output_type": "execute_result"
    }
   ],
   "source": [
    "df.dtypes"
   ]
  },
  {
   "cell_type": "code",
   "execution_count": 7,
   "id": "3153bf58",
   "metadata": {},
   "outputs": [
    {
     "name": "stdout",
     "output_type": "stream",
     "text": [
      "<class 'pandas.core.frame.DataFrame'>\n",
      "RangeIndex: 10299 entries, 0 to 10298\n",
      "Columns: 562 entries, tBodyAcc-mean()-X to Activity\n",
      "dtypes: float64(561), object(1)\n",
      "memory usage: 44.2+ MB\n"
     ]
    }
   ],
   "source": [
    "df.info()"
   ]
  },
  {
   "cell_type": "code",
   "execution_count": 8,
   "id": "d2a60448",
   "metadata": {},
   "outputs": [
    {
     "data": {
      "text/plain": [
       "LAYING                1944\n",
       "STANDING              1906\n",
       "SITTING               1777\n",
       "WALKING               1722\n",
       "WALKING_UPSTAIRS      1544\n",
       "WALKING_DOWNSTAIRS    1406\n",
       "Name: Activity, dtype: int64"
      ]
     },
     "execution_count": 8,
     "metadata": {},
     "output_type": "execute_result"
    }
   ],
   "source": [
    "df[\"Activity\"].value_counts()"
   ]
  },
  {
   "cell_type": "markdown",
   "id": "f9684eba",
   "metadata": {},
   "source": [
    "## Step 2: Build a small dataset"
   ]
  },
  {
   "cell_type": "code",
   "execution_count": 9,
   "id": "8c010d40",
   "metadata": {},
   "outputs": [],
   "source": [
    "lay = df.loc[df['Activity'] == \"LAYING\"][:500]\n",
    "sit = df.loc[df['Activity'] == \"SITTING\"][:500]\n",
    "walk = df.loc[df['Activity'] == \"WALKING\"][:500]\n",
    "frames = [lay, sit, walk]\n",
    "df_new = pd.concat(frames)"
   ]
  },
  {
   "cell_type": "code",
   "execution_count": 10,
   "id": "b1c4ac27",
   "metadata": {},
   "outputs": [
    {
     "data": {
      "text/plain": [
       "(1500, 562)"
      ]
     },
     "execution_count": 10,
     "metadata": {},
     "output_type": "execute_result"
    }
   ],
   "source": [
    "df_new.shape"
   ]
  },
  {
   "cell_type": "markdown",
   "id": "8d7df319",
   "metadata": {},
   "source": [
    "### Store this dataframe as a new csv file"
   ]
  },
  {
   "cell_type": "code",
   "execution_count": 11,
   "id": "eb19f6f3",
   "metadata": {},
   "outputs": [],
   "source": [
    "df_new.to_csv(\"Human_Activity_sample.csv\")"
   ]
  },
  {
   "cell_type": "markdown",
   "id": "07b0e3f8",
   "metadata": {},
   "source": [
    "## Step 3: Build GradientBoostingClassifier"
   ]
  },
  {
   "cell_type": "markdown",
   "id": "4d5ac745",
   "metadata": {},
   "source": [
    "### Import your reduced csv file"
   ]
  },
  {
   "cell_type": "code",
   "execution_count": 12,
   "id": "c2176925",
   "metadata": {},
   "outputs": [],
   "source": [
    "df1= pd.read_csv('Human_Activity_sample.csv')"
   ]
  },
  {
   "cell_type": "markdown",
   "id": "416c5368",
   "metadata": {},
   "source": [
    "### Print Basic Properties of new csv file"
   ]
  },
  {
   "cell_type": "code",
   "execution_count": 13,
   "id": "f582b5d0",
   "metadata": {},
   "outputs": [
    {
     "data": {
      "text/html": [
       "<div>\n",
       "<style scoped>\n",
       "    .dataframe tbody tr th:only-of-type {\n",
       "        vertical-align: middle;\n",
       "    }\n",
       "\n",
       "    .dataframe tbody tr th {\n",
       "        vertical-align: top;\n",
       "    }\n",
       "\n",
       "    .dataframe thead th {\n",
       "        text-align: right;\n",
       "    }\n",
       "</style>\n",
       "<table border=\"1\" class=\"dataframe\">\n",
       "  <thead>\n",
       "    <tr style=\"text-align: right;\">\n",
       "      <th></th>\n",
       "      <th>Unnamed: 0</th>\n",
       "      <th>tBodyAcc-mean()-X</th>\n",
       "      <th>tBodyAcc-mean()-Y</th>\n",
       "      <th>tBodyAcc-mean()-Z</th>\n",
       "      <th>tBodyAcc-std()-X</th>\n",
       "      <th>tBodyAcc-std()-Y</th>\n",
       "      <th>tBodyAcc-std()-Z</th>\n",
       "      <th>tBodyAcc-mad()-X</th>\n",
       "      <th>tBodyAcc-mad()-Y</th>\n",
       "      <th>tBodyAcc-mad()-Z</th>\n",
       "      <th>...</th>\n",
       "      <th>fBodyBodyGyroJerkMag-skewness()</th>\n",
       "      <th>fBodyBodyGyroJerkMag-kurtosis()</th>\n",
       "      <th>angle(tBodyAccMean,gravity)</th>\n",
       "      <th>angle(tBodyAccJerkMean),gravityMean)</th>\n",
       "      <th>angle(tBodyGyroMean,gravityMean)</th>\n",
       "      <th>angle(tBodyGyroJerkMean,gravityMean)</th>\n",
       "      <th>angle(X,gravityMean)</th>\n",
       "      <th>angle(Y,gravityMean)</th>\n",
       "      <th>angle(Z,gravityMean)</th>\n",
       "      <th>Activity</th>\n",
       "    </tr>\n",
       "  </thead>\n",
       "  <tbody>\n",
       "    <tr>\n",
       "      <th>0</th>\n",
       "      <td>51</td>\n",
       "      <td>0.403474</td>\n",
       "      <td>-0.015074</td>\n",
       "      <td>-0.118167</td>\n",
       "      <td>-0.914811</td>\n",
       "      <td>-0.895231</td>\n",
       "      <td>-0.891748</td>\n",
       "      <td>-0.917696</td>\n",
       "      <td>-0.924624</td>\n",
       "      <td>-0.905895</td>\n",
       "      <td>...</td>\n",
       "      <td>0.383907</td>\n",
       "      <td>-0.021764</td>\n",
       "      <td>-0.068580</td>\n",
       "      <td>-0.043105</td>\n",
       "      <td>-0.332249</td>\n",
       "      <td>0.487505</td>\n",
       "      <td>0.432479</td>\n",
       "      <td>-0.553351</td>\n",
       "      <td>-0.432876</td>\n",
       "      <td>LAYING</td>\n",
       "    </tr>\n",
       "    <tr>\n",
       "      <th>1</th>\n",
       "      <td>52</td>\n",
       "      <td>0.278373</td>\n",
       "      <td>-0.020561</td>\n",
       "      <td>-0.096825</td>\n",
       "      <td>-0.984883</td>\n",
       "      <td>-0.991118</td>\n",
       "      <td>-0.982112</td>\n",
       "      <td>-0.987985</td>\n",
       "      <td>-0.990362</td>\n",
       "      <td>-0.982189</td>\n",
       "      <td>...</td>\n",
       "      <td>-0.687636</td>\n",
       "      <td>-0.912512</td>\n",
       "      <td>-0.113048</td>\n",
       "      <td>0.223038</td>\n",
       "      <td>-0.393075</td>\n",
       "      <td>0.359037</td>\n",
       "      <td>0.399853</td>\n",
       "      <td>-0.550364</td>\n",
       "      <td>-0.427593</td>\n",
       "      <td>LAYING</td>\n",
       "    </tr>\n",
       "    <tr>\n",
       "      <th>2</th>\n",
       "      <td>53</td>\n",
       "      <td>0.276555</td>\n",
       "      <td>-0.017869</td>\n",
       "      <td>-0.107621</td>\n",
       "      <td>-0.994195</td>\n",
       "      <td>-0.996372</td>\n",
       "      <td>-0.995615</td>\n",
       "      <td>-0.994901</td>\n",
       "      <td>-0.996360</td>\n",
       "      <td>-0.996628</td>\n",
       "      <td>...</td>\n",
       "      <td>-0.519084</td>\n",
       "      <td>-0.813040</td>\n",
       "      <td>0.293145</td>\n",
       "      <td>-0.018635</td>\n",
       "      <td>-0.246980</td>\n",
       "      <td>0.453923</td>\n",
       "      <td>0.399066</td>\n",
       "      <td>-0.546725</td>\n",
       "      <td>-0.431244</td>\n",
       "      <td>LAYING</td>\n",
       "    </tr>\n",
       "    <tr>\n",
       "      <th>3</th>\n",
       "      <td>54</td>\n",
       "      <td>0.279575</td>\n",
       "      <td>-0.017276</td>\n",
       "      <td>-0.109481</td>\n",
       "      <td>-0.996135</td>\n",
       "      <td>-0.995812</td>\n",
       "      <td>-0.998689</td>\n",
       "      <td>-0.996393</td>\n",
       "      <td>-0.995474</td>\n",
       "      <td>-0.999006</td>\n",
       "      <td>...</td>\n",
       "      <td>-0.855139</td>\n",
       "      <td>-0.984028</td>\n",
       "      <td>0.240526</td>\n",
       "      <td>0.149804</td>\n",
       "      <td>0.393611</td>\n",
       "      <td>0.386719</td>\n",
       "      <td>0.399555</td>\n",
       "      <td>-0.546477</td>\n",
       "      <td>-0.431646</td>\n",
       "      <td>LAYING</td>\n",
       "    </tr>\n",
       "    <tr>\n",
       "      <th>4</th>\n",
       "      <td>55</td>\n",
       "      <td>0.276527</td>\n",
       "      <td>-0.016819</td>\n",
       "      <td>-0.107983</td>\n",
       "      <td>-0.996775</td>\n",
       "      <td>-0.997256</td>\n",
       "      <td>-0.995422</td>\n",
       "      <td>-0.997167</td>\n",
       "      <td>-0.997108</td>\n",
       "      <td>-0.995739</td>\n",
       "      <td>...</td>\n",
       "      <td>-0.852171</td>\n",
       "      <td>-0.954254</td>\n",
       "      <td>-0.347519</td>\n",
       "      <td>-0.469155</td>\n",
       "      <td>0.308855</td>\n",
       "      <td>-0.354146</td>\n",
       "      <td>0.398889</td>\n",
       "      <td>-0.546712</td>\n",
       "      <td>-0.431207</td>\n",
       "      <td>LAYING</td>\n",
       "    </tr>\n",
       "  </tbody>\n",
       "</table>\n",
       "<p>5 rows × 563 columns</p>\n",
       "</div>"
      ],
      "text/plain": [
       "   Unnamed: 0  tBodyAcc-mean()-X  tBodyAcc-mean()-Y  tBodyAcc-mean()-Z  \\\n",
       "0          51           0.403474          -0.015074          -0.118167   \n",
       "1          52           0.278373          -0.020561          -0.096825   \n",
       "2          53           0.276555          -0.017869          -0.107621   \n",
       "3          54           0.279575          -0.017276          -0.109481   \n",
       "4          55           0.276527          -0.016819          -0.107983   \n",
       "\n",
       "   tBodyAcc-std()-X  tBodyAcc-std()-Y  tBodyAcc-std()-Z  tBodyAcc-mad()-X  \\\n",
       "0         -0.914811         -0.895231         -0.891748         -0.917696   \n",
       "1         -0.984883         -0.991118         -0.982112         -0.987985   \n",
       "2         -0.994195         -0.996372         -0.995615         -0.994901   \n",
       "3         -0.996135         -0.995812         -0.998689         -0.996393   \n",
       "4         -0.996775         -0.997256         -0.995422         -0.997167   \n",
       "\n",
       "   tBodyAcc-mad()-Y  tBodyAcc-mad()-Z  ...  fBodyBodyGyroJerkMag-skewness()  \\\n",
       "0         -0.924624         -0.905895  ...                         0.383907   \n",
       "1         -0.990362         -0.982189  ...                        -0.687636   \n",
       "2         -0.996360         -0.996628  ...                        -0.519084   \n",
       "3         -0.995474         -0.999006  ...                        -0.855139   \n",
       "4         -0.997108         -0.995739  ...                        -0.852171   \n",
       "\n",
       "   fBodyBodyGyroJerkMag-kurtosis()  angle(tBodyAccMean,gravity)  \\\n",
       "0                        -0.021764                    -0.068580   \n",
       "1                        -0.912512                    -0.113048   \n",
       "2                        -0.813040                     0.293145   \n",
       "3                        -0.984028                     0.240526   \n",
       "4                        -0.954254                    -0.347519   \n",
       "\n",
       "   angle(tBodyAccJerkMean),gravityMean)  angle(tBodyGyroMean,gravityMean)  \\\n",
       "0                             -0.043105                         -0.332249   \n",
       "1                              0.223038                         -0.393075   \n",
       "2                             -0.018635                         -0.246980   \n",
       "3                              0.149804                          0.393611   \n",
       "4                             -0.469155                          0.308855   \n",
       "\n",
       "   angle(tBodyGyroJerkMean,gravityMean)  angle(X,gravityMean)  \\\n",
       "0                              0.487505              0.432479   \n",
       "1                              0.359037              0.399853   \n",
       "2                              0.453923              0.399066   \n",
       "3                              0.386719              0.399555   \n",
       "4                             -0.354146              0.398889   \n",
       "\n",
       "   angle(Y,gravityMean)  angle(Z,gravityMean)  Activity  \n",
       "0             -0.553351             -0.432876    LAYING  \n",
       "1             -0.550364             -0.427593    LAYING  \n",
       "2             -0.546725             -0.431244    LAYING  \n",
       "3             -0.546477             -0.431646    LAYING  \n",
       "4             -0.546712             -0.431207    LAYING  \n",
       "\n",
       "[5 rows x 563 columns]"
      ]
     },
     "execution_count": 13,
     "metadata": {},
     "output_type": "execute_result"
    }
   ],
   "source": [
    "df1.head()"
   ]
  },
  {
   "cell_type": "code",
   "execution_count": 14,
   "id": "6632a67a",
   "metadata": {},
   "outputs": [
    {
     "data": {
      "text/plain": [
       "(1500, 563)"
      ]
     },
     "execution_count": 14,
     "metadata": {},
     "output_type": "execute_result"
    }
   ],
   "source": [
    "df1.shape"
   ]
  },
  {
   "cell_type": "code",
   "execution_count": 15,
   "id": "8fc60200",
   "metadata": {},
   "outputs": [
    {
     "data": {
      "text/plain": [
       "Index(['Unnamed: 0', 'tBodyAcc-mean()-X', 'tBodyAcc-mean()-Y',\n",
       "       'tBodyAcc-mean()-Z', 'tBodyAcc-std()-X', 'tBodyAcc-std()-Y',\n",
       "       'tBodyAcc-std()-Z', 'tBodyAcc-mad()-X', 'tBodyAcc-mad()-Y',\n",
       "       'tBodyAcc-mad()-Z',\n",
       "       ...\n",
       "       'fBodyBodyGyroJerkMag-skewness()', 'fBodyBodyGyroJerkMag-kurtosis()',\n",
       "       'angle(tBodyAccMean,gravity)', 'angle(tBodyAccJerkMean),gravityMean)',\n",
       "       'angle(tBodyGyroMean,gravityMean)',\n",
       "       'angle(tBodyGyroJerkMean,gravityMean)', 'angle(X,gravityMean)',\n",
       "       'angle(Y,gravityMean)', 'angle(Z,gravityMean)', 'Activity'],\n",
       "      dtype='object', length=563)"
      ]
     },
     "execution_count": 15,
     "metadata": {},
     "output_type": "execute_result"
    }
   ],
   "source": [
    "df1.columns"
   ]
  },
  {
   "cell_type": "code",
   "execution_count": 16,
   "id": "56b8f65b",
   "metadata": {},
   "outputs": [
    {
     "data": {
      "text/plain": [
       "Unnamed: 0                                int64\n",
       "tBodyAcc-mean()-X                       float64\n",
       "tBodyAcc-mean()-Y                       float64\n",
       "tBodyAcc-mean()-Z                       float64\n",
       "tBodyAcc-std()-X                        float64\n",
       "                                         ...   \n",
       "angle(tBodyGyroJerkMean,gravityMean)    float64\n",
       "angle(X,gravityMean)                    float64\n",
       "angle(Y,gravityMean)                    float64\n",
       "angle(Z,gravityMean)                    float64\n",
       "Activity                                 object\n",
       "Length: 563, dtype: object"
      ]
     },
     "execution_count": 16,
     "metadata": {},
     "output_type": "execute_result"
    }
   ],
   "source": [
    "df1.dtypes"
   ]
  },
  {
   "cell_type": "code",
   "execution_count": 17,
   "id": "f69226b2",
   "metadata": {},
   "outputs": [
    {
     "name": "stdout",
     "output_type": "stream",
     "text": [
      "<class 'pandas.core.frame.DataFrame'>\n",
      "RangeIndex: 1500 entries, 0 to 1499\n",
      "Columns: 563 entries, Unnamed: 0 to Activity\n",
      "dtypes: float64(561), int64(1), object(1)\n",
      "memory usage: 6.4+ MB\n"
     ]
    }
   ],
   "source": [
    "df1.info()"
   ]
  },
  {
   "cell_type": "code",
   "execution_count": 18,
   "id": "2048c1c8",
   "metadata": {},
   "outputs": [
    {
     "data": {
      "text/plain": [
       "LAYING     500\n",
       "SITTING    500\n",
       "WALKING    500\n",
       "Name: Activity, dtype: int64"
      ]
     },
     "execution_count": 18,
     "metadata": {},
     "output_type": "execute_result"
    }
   ],
   "source": [
    "df1[\"Activity\"].value_counts()"
   ]
  },
  {
   "cell_type": "code",
   "execution_count": 19,
   "id": "f68f0217",
   "metadata": {},
   "outputs": [
    {
     "data": {
      "text/html": [
       "<div>\n",
       "<style scoped>\n",
       "    .dataframe tbody tr th:only-of-type {\n",
       "        vertical-align: middle;\n",
       "    }\n",
       "\n",
       "    .dataframe tbody tr th {\n",
       "        vertical-align: top;\n",
       "    }\n",
       "\n",
       "    .dataframe thead th {\n",
       "        text-align: right;\n",
       "    }\n",
       "</style>\n",
       "<table border=\"1\" class=\"dataframe\">\n",
       "  <thead>\n",
       "    <tr style=\"text-align: right;\">\n",
       "      <th></th>\n",
       "      <th>Unnamed: 0</th>\n",
       "      <th>tBodyAcc-mean()-X</th>\n",
       "      <th>tBodyAcc-mean()-Y</th>\n",
       "      <th>tBodyAcc-mean()-Z</th>\n",
       "      <th>tBodyAcc-std()-X</th>\n",
       "      <th>tBodyAcc-std()-Y</th>\n",
       "      <th>tBodyAcc-std()-Z</th>\n",
       "      <th>tBodyAcc-mad()-X</th>\n",
       "      <th>tBodyAcc-mad()-Y</th>\n",
       "      <th>tBodyAcc-mad()-Z</th>\n",
       "      <th>...</th>\n",
       "      <th>fBodyBodyGyroJerkMag-meanFreq()</th>\n",
       "      <th>fBodyBodyGyroJerkMag-skewness()</th>\n",
       "      <th>fBodyBodyGyroJerkMag-kurtosis()</th>\n",
       "      <th>angle(tBodyAccMean,gravity)</th>\n",
       "      <th>angle(tBodyAccJerkMean),gravityMean)</th>\n",
       "      <th>angle(tBodyGyroMean,gravityMean)</th>\n",
       "      <th>angle(tBodyGyroJerkMean,gravityMean)</th>\n",
       "      <th>angle(X,gravityMean)</th>\n",
       "      <th>angle(Y,gravityMean)</th>\n",
       "      <th>angle(Z,gravityMean)</th>\n",
       "    </tr>\n",
       "  </thead>\n",
       "  <tbody>\n",
       "    <tr>\n",
       "      <th>0</th>\n",
       "      <td>51</td>\n",
       "      <td>0.403474</td>\n",
       "      <td>-0.015074</td>\n",
       "      <td>-0.118167</td>\n",
       "      <td>-0.914811</td>\n",
       "      <td>-0.895231</td>\n",
       "      <td>-0.891748</td>\n",
       "      <td>-0.917696</td>\n",
       "      <td>-0.924624</td>\n",
       "      <td>-0.905895</td>\n",
       "      <td>...</td>\n",
       "      <td>-0.274891</td>\n",
       "      <td>0.383907</td>\n",
       "      <td>-0.021764</td>\n",
       "      <td>-0.068580</td>\n",
       "      <td>-0.043105</td>\n",
       "      <td>-0.332249</td>\n",
       "      <td>0.487505</td>\n",
       "      <td>0.432479</td>\n",
       "      <td>-0.553351</td>\n",
       "      <td>-0.432876</td>\n",
       "    </tr>\n",
       "    <tr>\n",
       "      <th>1</th>\n",
       "      <td>52</td>\n",
       "      <td>0.278373</td>\n",
       "      <td>-0.020561</td>\n",
       "      <td>-0.096825</td>\n",
       "      <td>-0.984883</td>\n",
       "      <td>-0.991118</td>\n",
       "      <td>-0.982112</td>\n",
       "      <td>-0.987985</td>\n",
       "      <td>-0.990362</td>\n",
       "      <td>-0.982189</td>\n",
       "      <td>...</td>\n",
       "      <td>0.428473</td>\n",
       "      <td>-0.687636</td>\n",
       "      <td>-0.912512</td>\n",
       "      <td>-0.113048</td>\n",
       "      <td>0.223038</td>\n",
       "      <td>-0.393075</td>\n",
       "      <td>0.359037</td>\n",
       "      <td>0.399853</td>\n",
       "      <td>-0.550364</td>\n",
       "      <td>-0.427593</td>\n",
       "    </tr>\n",
       "    <tr>\n",
       "      <th>2</th>\n",
       "      <td>53</td>\n",
       "      <td>0.276555</td>\n",
       "      <td>-0.017869</td>\n",
       "      <td>-0.107621</td>\n",
       "      <td>-0.994195</td>\n",
       "      <td>-0.996372</td>\n",
       "      <td>-0.995615</td>\n",
       "      <td>-0.994901</td>\n",
       "      <td>-0.996360</td>\n",
       "      <td>-0.996628</td>\n",
       "      <td>...</td>\n",
       "      <td>0.437532</td>\n",
       "      <td>-0.519084</td>\n",
       "      <td>-0.813040</td>\n",
       "      <td>0.293145</td>\n",
       "      <td>-0.018635</td>\n",
       "      <td>-0.246980</td>\n",
       "      <td>0.453923</td>\n",
       "      <td>0.399066</td>\n",
       "      <td>-0.546725</td>\n",
       "      <td>-0.431244</td>\n",
       "    </tr>\n",
       "    <tr>\n",
       "      <th>3</th>\n",
       "      <td>54</td>\n",
       "      <td>0.279575</td>\n",
       "      <td>-0.017276</td>\n",
       "      <td>-0.109481</td>\n",
       "      <td>-0.996135</td>\n",
       "      <td>-0.995812</td>\n",
       "      <td>-0.998689</td>\n",
       "      <td>-0.996393</td>\n",
       "      <td>-0.995474</td>\n",
       "      <td>-0.999006</td>\n",
       "      <td>...</td>\n",
       "      <td>0.543848</td>\n",
       "      <td>-0.855139</td>\n",
       "      <td>-0.984028</td>\n",
       "      <td>0.240526</td>\n",
       "      <td>0.149804</td>\n",
       "      <td>0.393611</td>\n",
       "      <td>0.386719</td>\n",
       "      <td>0.399555</td>\n",
       "      <td>-0.546477</td>\n",
       "      <td>-0.431646</td>\n",
       "    </tr>\n",
       "    <tr>\n",
       "      <th>4</th>\n",
       "      <td>55</td>\n",
       "      <td>0.276527</td>\n",
       "      <td>-0.016819</td>\n",
       "      <td>-0.107983</td>\n",
       "      <td>-0.996775</td>\n",
       "      <td>-0.997256</td>\n",
       "      <td>-0.995422</td>\n",
       "      <td>-0.997167</td>\n",
       "      <td>-0.997108</td>\n",
       "      <td>-0.995739</td>\n",
       "      <td>...</td>\n",
       "      <td>0.638939</td>\n",
       "      <td>-0.852171</td>\n",
       "      <td>-0.954254</td>\n",
       "      <td>-0.347519</td>\n",
       "      <td>-0.469155</td>\n",
       "      <td>0.308855</td>\n",
       "      <td>-0.354146</td>\n",
       "      <td>0.398889</td>\n",
       "      <td>-0.546712</td>\n",
       "      <td>-0.431207</td>\n",
       "    </tr>\n",
       "    <tr>\n",
       "      <th>...</th>\n",
       "      <td>...</td>\n",
       "      <td>...</td>\n",
       "      <td>...</td>\n",
       "      <td>...</td>\n",
       "      <td>...</td>\n",
       "      <td>...</td>\n",
       "      <td>...</td>\n",
       "      <td>...</td>\n",
       "      <td>...</td>\n",
       "      <td>...</td>\n",
       "      <td>...</td>\n",
       "      <td>...</td>\n",
       "      <td>...</td>\n",
       "      <td>...</td>\n",
       "      <td>...</td>\n",
       "      <td>...</td>\n",
       "      <td>...</td>\n",
       "      <td>...</td>\n",
       "      <td>...</td>\n",
       "      <td>...</td>\n",
       "      <td>...</td>\n",
       "    </tr>\n",
       "    <tr>\n",
       "      <th>1495</th>\n",
       "      <td>2637</td>\n",
       "      <td>0.224104</td>\n",
       "      <td>-0.070152</td>\n",
       "      <td>-0.160533</td>\n",
       "      <td>-0.345152</td>\n",
       "      <td>0.143162</td>\n",
       "      <td>-0.430728</td>\n",
       "      <td>-0.381578</td>\n",
       "      <td>0.116751</td>\n",
       "      <td>-0.441590</td>\n",
       "      <td>...</td>\n",
       "      <td>0.260582</td>\n",
       "      <td>-0.187194</td>\n",
       "      <td>-0.574562</td>\n",
       "      <td>0.124450</td>\n",
       "      <td>0.621094</td>\n",
       "      <td>-0.884986</td>\n",
       "      <td>-0.631605</td>\n",
       "      <td>-0.761025</td>\n",
       "      <td>0.249104</td>\n",
       "      <td>-0.051070</td>\n",
       "    </tr>\n",
       "    <tr>\n",
       "      <th>1496</th>\n",
       "      <td>2638</td>\n",
       "      <td>0.218667</td>\n",
       "      <td>-0.000151</td>\n",
       "      <td>-0.129555</td>\n",
       "      <td>-0.358372</td>\n",
       "      <td>0.044663</td>\n",
       "      <td>-0.489753</td>\n",
       "      <td>-0.398833</td>\n",
       "      <td>0.077737</td>\n",
       "      <td>-0.483296</td>\n",
       "      <td>...</td>\n",
       "      <td>0.020024</td>\n",
       "      <td>-0.024782</td>\n",
       "      <td>-0.446545</td>\n",
       "      <td>0.680403</td>\n",
       "      <td>-0.248475</td>\n",
       "      <td>-0.339029</td>\n",
       "      <td>-0.065084</td>\n",
       "      <td>-0.753132</td>\n",
       "      <td>0.256598</td>\n",
       "      <td>-0.047081</td>\n",
       "    </tr>\n",
       "    <tr>\n",
       "      <th>1497</th>\n",
       "      <td>2639</td>\n",
       "      <td>0.282650</td>\n",
       "      <td>0.010504</td>\n",
       "      <td>-0.105785</td>\n",
       "      <td>-0.430536</td>\n",
       "      <td>-0.031534</td>\n",
       "      <td>-0.515552</td>\n",
       "      <td>-0.448290</td>\n",
       "      <td>-0.021570</td>\n",
       "      <td>-0.520337</td>\n",
       "      <td>...</td>\n",
       "      <td>-0.028713</td>\n",
       "      <td>-0.130652</td>\n",
       "      <td>-0.476891</td>\n",
       "      <td>0.102063</td>\n",
       "      <td>-0.542308</td>\n",
       "      <td>-0.819879</td>\n",
       "      <td>-0.088495</td>\n",
       "      <td>-0.756539</td>\n",
       "      <td>0.254920</td>\n",
       "      <td>-0.044892</td>\n",
       "    </tr>\n",
       "    <tr>\n",
       "      <th>1498</th>\n",
       "      <td>2640</td>\n",
       "      <td>0.310453</td>\n",
       "      <td>-0.005621</td>\n",
       "      <td>-0.116935</td>\n",
       "      <td>-0.439045</td>\n",
       "      <td>-0.092861</td>\n",
       "      <td>-0.498774</td>\n",
       "      <td>-0.467585</td>\n",
       "      <td>-0.093235</td>\n",
       "      <td>-0.514832</td>\n",
       "      <td>...</td>\n",
       "      <td>0.078385</td>\n",
       "      <td>-0.213342</td>\n",
       "      <td>-0.505622</td>\n",
       "      <td>-0.348489</td>\n",
       "      <td>0.108004</td>\n",
       "      <td>-0.801418</td>\n",
       "      <td>0.474556</td>\n",
       "      <td>-0.759225</td>\n",
       "      <td>0.252847</td>\n",
       "      <td>-0.045139</td>\n",
       "    </tr>\n",
       "    <tr>\n",
       "      <th>1499</th>\n",
       "      <td>2641</td>\n",
       "      <td>0.350868</td>\n",
       "      <td>-0.029195</td>\n",
       "      <td>-0.120600</td>\n",
       "      <td>-0.367631</td>\n",
       "      <td>0.025890</td>\n",
       "      <td>-0.428028</td>\n",
       "      <td>-0.415913</td>\n",
       "      <td>0.058941</td>\n",
       "      <td>-0.457321</td>\n",
       "      <td>...</td>\n",
       "      <td>0.157398</td>\n",
       "      <td>-0.209817</td>\n",
       "      <td>-0.541933</td>\n",
       "      <td>-0.763166</td>\n",
       "      <td>-0.653171</td>\n",
       "      <td>-0.286006</td>\n",
       "      <td>0.347605</td>\n",
       "      <td>-0.761239</td>\n",
       "      <td>0.251588</td>\n",
       "      <td>-0.044546</td>\n",
       "    </tr>\n",
       "  </tbody>\n",
       "</table>\n",
       "<p>1500 rows × 562 columns</p>\n",
       "</div>"
      ],
      "text/plain": [
       "      Unnamed: 0  tBodyAcc-mean()-X  tBodyAcc-mean()-Y  tBodyAcc-mean()-Z  \\\n",
       "0             51           0.403474          -0.015074          -0.118167   \n",
       "1             52           0.278373          -0.020561          -0.096825   \n",
       "2             53           0.276555          -0.017869          -0.107621   \n",
       "3             54           0.279575          -0.017276          -0.109481   \n",
       "4             55           0.276527          -0.016819          -0.107983   \n",
       "...          ...                ...                ...                ...   \n",
       "1495        2637           0.224104          -0.070152          -0.160533   \n",
       "1496        2638           0.218667          -0.000151          -0.129555   \n",
       "1497        2639           0.282650           0.010504          -0.105785   \n",
       "1498        2640           0.310453          -0.005621          -0.116935   \n",
       "1499        2641           0.350868          -0.029195          -0.120600   \n",
       "\n",
       "      tBodyAcc-std()-X  tBodyAcc-std()-Y  tBodyAcc-std()-Z  tBodyAcc-mad()-X  \\\n",
       "0            -0.914811         -0.895231         -0.891748         -0.917696   \n",
       "1            -0.984883         -0.991118         -0.982112         -0.987985   \n",
       "2            -0.994195         -0.996372         -0.995615         -0.994901   \n",
       "3            -0.996135         -0.995812         -0.998689         -0.996393   \n",
       "4            -0.996775         -0.997256         -0.995422         -0.997167   \n",
       "...                ...               ...               ...               ...   \n",
       "1495         -0.345152          0.143162         -0.430728         -0.381578   \n",
       "1496         -0.358372          0.044663         -0.489753         -0.398833   \n",
       "1497         -0.430536         -0.031534         -0.515552         -0.448290   \n",
       "1498         -0.439045         -0.092861         -0.498774         -0.467585   \n",
       "1499         -0.367631          0.025890         -0.428028         -0.415913   \n",
       "\n",
       "      tBodyAcc-mad()-Y  tBodyAcc-mad()-Z  ...  \\\n",
       "0            -0.924624         -0.905895  ...   \n",
       "1            -0.990362         -0.982189  ...   \n",
       "2            -0.996360         -0.996628  ...   \n",
       "3            -0.995474         -0.999006  ...   \n",
       "4            -0.997108         -0.995739  ...   \n",
       "...                ...               ...  ...   \n",
       "1495          0.116751         -0.441590  ...   \n",
       "1496          0.077737         -0.483296  ...   \n",
       "1497         -0.021570         -0.520337  ...   \n",
       "1498         -0.093235         -0.514832  ...   \n",
       "1499          0.058941         -0.457321  ...   \n",
       "\n",
       "      fBodyBodyGyroJerkMag-meanFreq()  fBodyBodyGyroJerkMag-skewness()  \\\n",
       "0                           -0.274891                         0.383907   \n",
       "1                            0.428473                        -0.687636   \n",
       "2                            0.437532                        -0.519084   \n",
       "3                            0.543848                        -0.855139   \n",
       "4                            0.638939                        -0.852171   \n",
       "...                               ...                              ...   \n",
       "1495                         0.260582                        -0.187194   \n",
       "1496                         0.020024                        -0.024782   \n",
       "1497                        -0.028713                        -0.130652   \n",
       "1498                         0.078385                        -0.213342   \n",
       "1499                         0.157398                        -0.209817   \n",
       "\n",
       "      fBodyBodyGyroJerkMag-kurtosis()  angle(tBodyAccMean,gravity)  \\\n",
       "0                           -0.021764                    -0.068580   \n",
       "1                           -0.912512                    -0.113048   \n",
       "2                           -0.813040                     0.293145   \n",
       "3                           -0.984028                     0.240526   \n",
       "4                           -0.954254                    -0.347519   \n",
       "...                               ...                          ...   \n",
       "1495                        -0.574562                     0.124450   \n",
       "1496                        -0.446545                     0.680403   \n",
       "1497                        -0.476891                     0.102063   \n",
       "1498                        -0.505622                    -0.348489   \n",
       "1499                        -0.541933                    -0.763166   \n",
       "\n",
       "      angle(tBodyAccJerkMean),gravityMean)  angle(tBodyGyroMean,gravityMean)  \\\n",
       "0                                -0.043105                         -0.332249   \n",
       "1                                 0.223038                         -0.393075   \n",
       "2                                -0.018635                         -0.246980   \n",
       "3                                 0.149804                          0.393611   \n",
       "4                                -0.469155                          0.308855   \n",
       "...                                    ...                               ...   \n",
       "1495                              0.621094                         -0.884986   \n",
       "1496                             -0.248475                         -0.339029   \n",
       "1497                             -0.542308                         -0.819879   \n",
       "1498                              0.108004                         -0.801418   \n",
       "1499                             -0.653171                         -0.286006   \n",
       "\n",
       "      angle(tBodyGyroJerkMean,gravityMean)  angle(X,gravityMean)  \\\n",
       "0                                 0.487505              0.432479   \n",
       "1                                 0.359037              0.399853   \n",
       "2                                 0.453923              0.399066   \n",
       "3                                 0.386719              0.399555   \n",
       "4                                -0.354146              0.398889   \n",
       "...                                    ...                   ...   \n",
       "1495                             -0.631605             -0.761025   \n",
       "1496                             -0.065084             -0.753132   \n",
       "1497                             -0.088495             -0.756539   \n",
       "1498                              0.474556             -0.759225   \n",
       "1499                              0.347605             -0.761239   \n",
       "\n",
       "      angle(Y,gravityMean)  angle(Z,gravityMean)  \n",
       "0                -0.553351             -0.432876  \n",
       "1                -0.550364             -0.427593  \n",
       "2                -0.546725             -0.431244  \n",
       "3                -0.546477             -0.431646  \n",
       "4                -0.546712             -0.431207  \n",
       "...                    ...                   ...  \n",
       "1495              0.249104             -0.051070  \n",
       "1496              0.256598             -0.047081  \n",
       "1497              0.254920             -0.044892  \n",
       "1498              0.252847             -0.045139  \n",
       "1499              0.251588             -0.044546  \n",
       "\n",
       "[1500 rows x 562 columns]"
      ]
     },
     "execution_count": 19,
     "metadata": {},
     "output_type": "execute_result"
    }
   ],
   "source": [
    "X=df1.drop('Activity',axis=1)\n",
    "X"
   ]
  },
  {
   "cell_type": "code",
   "execution_count": 20,
   "id": "ac14867b",
   "metadata": {},
   "outputs": [
    {
     "data": {
      "text/plain": [
       "0        LAYING\n",
       "1        LAYING\n",
       "2        LAYING\n",
       "3        LAYING\n",
       "4        LAYING\n",
       "         ...   \n",
       "1495    WALKING\n",
       "1496    WALKING\n",
       "1497    WALKING\n",
       "1498    WALKING\n",
       "1499    WALKING\n",
       "Name: Activity, Length: 1500, dtype: object"
      ]
     },
     "execution_count": 20,
     "metadata": {},
     "output_type": "execute_result"
    }
   ],
   "source": [
    "y=df1.Activity\n",
    "y"
   ]
  },
  {
   "cell_type": "markdown",
   "id": "3610849c",
   "metadata": {},
   "source": [
    "### Split into training and testing set"
   ]
  },
  {
   "cell_type": "code",
   "execution_count": 21,
   "id": "108d2cf5",
   "metadata": {},
   "outputs": [],
   "source": [
    "X_train,X_test,y_train,y_test = train_test_split(X,y,test_size=0.3,random_state=42)"
   ]
  },
  {
   "cell_type": "markdown",
   "id": "b4447fdd",
   "metadata": {},
   "source": [
    "### Create GradientBoostingClasssifier,fit and predict"
   ]
  },
  {
   "cell_type": "code",
   "execution_count": 22,
   "id": "209e5a44",
   "metadata": {},
   "outputs": [
    {
     "data": {
      "text/plain": [
       "GradientBoostingClassifier(learning_rate=1.0, max_depth=1, random_state=42)"
      ]
     },
     "execution_count": 22,
     "metadata": {},
     "output_type": "execute_result"
    }
   ],
   "source": [
    "model = GradientBoostingClassifier(n_estimators=100,learning_rate=1.0,max_depth=1,random_state=42)\n",
    "model.fit(X_train,y_train)"
   ]
  },
  {
   "cell_type": "code",
   "execution_count": 23,
   "id": "2a42d3a6",
   "metadata": {},
   "outputs": [],
   "source": [
    "y_pred=model.predict(X_test)"
   ]
  },
  {
   "cell_type": "markdown",
   "id": "44f7596c",
   "metadata": {},
   "source": [
    "### Print accuracy and classification report"
   ]
  },
  {
   "cell_type": "code",
   "execution_count": 24,
   "id": "18fe96d1",
   "metadata": {},
   "outputs": [
    {
     "data": {
      "text/plain": [
       "1.0"
      ]
     },
     "execution_count": 24,
     "metadata": {},
     "output_type": "execute_result"
    }
   ],
   "source": [
    "accuracy_score(y_test,y_pred)"
   ]
  },
  {
   "cell_type": "code",
   "execution_count": 25,
   "id": "2527bacd",
   "metadata": {},
   "outputs": [
    {
     "name": "stdout",
     "output_type": "stream",
     "text": [
      "              precision    recall  f1-score   support\n",
      "\n",
      "      LAYING       1.00      1.00      1.00       148\n",
      "     SITTING       1.00      1.00      1.00       141\n",
      "     WALKING       1.00      1.00      1.00       161\n",
      "\n",
      "    accuracy                           1.00       450\n",
      "   macro avg       1.00      1.00      1.00       450\n",
      "weighted avg       1.00      1.00      1.00       450\n",
      "\n"
     ]
    }
   ],
   "source": [
    "print(classification_report(y_test,y_pred))"
   ]
  },
  {
   "cell_type": "markdown",
   "id": "aad92e01",
   "metadata": {},
   "source": [
    "## Step4. [Find Best no. of trees and Best Learning Rate using Grid Search and Cross Validation]"
   ]
  },
  {
   "cell_type": "code",
   "execution_count": 26,
   "id": "71b8e81a",
   "metadata": {},
   "outputs": [],
   "source": [
    "classifier = GradientBoostingClassifier()"
   ]
  },
  {
   "cell_type": "code",
   "execution_count": 27,
   "id": "2dea63c8",
   "metadata": {},
   "outputs": [],
   "source": [
    "all_scores = cross_val_score(estimator=classifier, X=X_train, y=y_train, cv=5)"
   ]
  },
  {
   "cell_type": "code",
   "execution_count": 28,
   "id": "389af854",
   "metadata": {},
   "outputs": [
    {
     "data": {
      "text/plain": [
       "array([1., 1., 1., 1., 1.])"
      ]
     },
     "execution_count": 28,
     "metadata": {},
     "output_type": "execute_result"
    }
   ],
   "source": [
    "all_scores"
   ]
  },
  {
   "cell_type": "markdown",
   "id": "e5f8a06d",
   "metadata": {},
   "source": [
    "### To find the average of all the accuracies, simple use the mean() method"
   ]
  },
  {
   "cell_type": "code",
   "execution_count": 29,
   "id": "46926f1e",
   "metadata": {},
   "outputs": [
    {
     "data": {
      "text/plain": [
       "1.0"
      ]
     },
     "execution_count": 29,
     "metadata": {},
     "output_type": "execute_result"
    }
   ],
   "source": [
    "all_scores.mean()"
   ]
  },
  {
   "cell_type": "code",
   "execution_count": 30,
   "id": "b55ec294",
   "metadata": {},
   "outputs": [],
   "source": [
    "parameter = {'n_estimators': [50, 100, 200, 400], 'learning_rate': [0.1, 0.01]}"
   ]
  },
  {
   "cell_type": "code",
   "execution_count": 31,
   "id": "dec31cd3",
   "metadata": {},
   "outputs": [],
   "source": [
    "model1 = GridSearchCV(estimator=classifier, param_grid=parameter,cv=5, n_jobs=-1)"
   ]
  },
  {
   "cell_type": "code",
   "execution_count": 32,
   "id": "465eef70",
   "metadata": {},
   "outputs": [
    {
     "data": {
      "text/plain": [
       "GridSearchCV(cv=5, estimator=GradientBoostingClassifier(), n_jobs=-1,\n",
       "             param_grid={'learning_rate': [0.1, 0.01],\n",
       "                         'n_estimators': [50, 100, 200, 400]})"
      ]
     },
     "execution_count": 32,
     "metadata": {},
     "output_type": "execute_result"
    }
   ],
   "source": [
    "model1.fit(X_train,y_train)"
   ]
  },
  {
   "cell_type": "code",
   "execution_count": 33,
   "id": "53823f62",
   "metadata": {},
   "outputs": [],
   "source": [
    "y_pred2=model1.predict(X_test)"
   ]
  },
  {
   "cell_type": "code",
   "execution_count": 34,
   "id": "7500d110",
   "metadata": {},
   "outputs": [
    {
     "data": {
      "text/plain": [
       "1.0"
      ]
     },
     "execution_count": 34,
     "metadata": {},
     "output_type": "execute_result"
    }
   ],
   "source": [
    "accuracy_score(y_test,y_pred2)"
   ]
  },
  {
   "cell_type": "code",
   "execution_count": 35,
   "id": "29e5f2ec",
   "metadata": {},
   "outputs": [
    {
     "name": "stdout",
     "output_type": "stream",
     "text": [
      "              precision    recall  f1-score   support\n",
      "\n",
      "      LAYING       1.00      1.00      1.00       148\n",
      "     SITTING       1.00      1.00      1.00       141\n",
      "     WALKING       1.00      1.00      1.00       161\n",
      "\n",
      "    accuracy                           1.00       450\n",
      "   macro avg       1.00      1.00      1.00       450\n",
      "weighted avg       1.00      1.00      1.00       450\n",
      "\n"
     ]
    }
   ],
   "source": [
    "print(classification_report(y_test,y_pred2))"
   ]
  },
  {
   "cell_type": "code",
   "execution_count": 36,
   "id": "43f1b757",
   "metadata": {},
   "outputs": [
    {
     "name": "stdout",
     "output_type": "stream",
     "text": [
      "GradientBoostingClassifier(n_estimators=50)\n"
     ]
    }
   ],
   "source": [
    "print(model1.best_estimator_)"
   ]
  },
  {
   "cell_type": "markdown",
   "id": "c67e4118",
   "metadata": {},
   "source": [
    "## Step5. [Build AdaBoostClassifier]"
   ]
  },
  {
   "cell_type": "code",
   "execution_count": 37,
   "id": "374b3adf",
   "metadata": {},
   "outputs": [],
   "source": [
    "base = DecisionTreeClassifier()"
   ]
  },
  {
   "cell_type": "code",
   "execution_count": 38,
   "id": "499feafd",
   "metadata": {},
   "outputs": [],
   "source": [
    "model2 = AdaBoostClassifier(base_estimator=base,random_state=0)"
   ]
  },
  {
   "cell_type": "code",
   "execution_count": 39,
   "id": "f05199dc",
   "metadata": {},
   "outputs": [],
   "source": [
    "param_grid = {'n_estimators': [100, 150, 200], 'learning_rate': [0.01, 0.001]}"
   ]
  },
  {
   "cell_type": "code",
   "execution_count": 40,
   "id": "4efbb379",
   "metadata": {},
   "outputs": [],
   "source": [
    "model3 = GridSearchCV(model2,param_grid,cv=5,n_jobs=-1)"
   ]
  },
  {
   "cell_type": "code",
   "execution_count": 42,
   "id": "8332a1bb",
   "metadata": {},
   "outputs": [
    {
     "data": {
      "text/plain": [
       "GridSearchCV(cv=5,\n",
       "             estimator=AdaBoostClassifier(base_estimator=DecisionTreeClassifier(),\n",
       "                                          random_state=0),\n",
       "             n_jobs=-1,\n",
       "             param_grid={'learning_rate': [0.01, 0.001],\n",
       "                         'n_estimators': [100, 150, 200]})"
      ]
     },
     "execution_count": 42,
     "metadata": {},
     "output_type": "execute_result"
    }
   ],
   "source": [
    "model3.fit(X_train,y_train)"
   ]
  },
  {
   "cell_type": "code",
   "execution_count": 43,
   "id": "d14bc128",
   "metadata": {},
   "outputs": [],
   "source": [
    "y_pred3=model3.predict(X_test)"
   ]
  },
  {
   "cell_type": "code",
   "execution_count": 44,
   "id": "a1d96137",
   "metadata": {},
   "outputs": [
    {
     "data": {
      "text/plain": [
       "0.9977777777777778"
      ]
     },
     "execution_count": 44,
     "metadata": {},
     "output_type": "execute_result"
    }
   ],
   "source": [
    "accuracy_score(y_test,y_pred3)"
   ]
  },
  {
   "cell_type": "code",
   "execution_count": 45,
   "id": "3cbd361e",
   "metadata": {},
   "outputs": [
    {
     "name": "stdout",
     "output_type": "stream",
     "text": [
      "              precision    recall  f1-score   support\n",
      "\n",
      "      LAYING       1.00      1.00      1.00       148\n",
      "     SITTING       1.00      0.99      1.00       141\n",
      "     WALKING       0.99      1.00      1.00       161\n",
      "\n",
      "    accuracy                           1.00       450\n",
      "   macro avg       1.00      1.00      1.00       450\n",
      "weighted avg       1.00      1.00      1.00       450\n",
      "\n"
     ]
    }
   ],
   "source": [
    "print(classification_report(y_test,y_pred3))"
   ]
  },
  {
   "cell_type": "code",
   "execution_count": 46,
   "id": "69079efd",
   "metadata": {},
   "outputs": [
    {
     "name": "stdout",
     "output_type": "stream",
     "text": [
      "AdaBoostClassifier(base_estimator=DecisionTreeClassifier(), learning_rate=0.01,\n",
      "                   n_estimators=100, random_state=0)\n"
     ]
    }
   ],
   "source": [
    "print(model3.best_estimator_)"
   ]
  },
  {
   "cell_type": "markdown",
   "id": "1d31f67e",
   "metadata": {},
   "source": [
    "## Step6. [Build LogisticRegressionCV classifier]"
   ]
  },
  {
   "cell_type": "code",
   "execution_count": 47,
   "id": "d9b8541d",
   "metadata": {},
   "outputs": [],
   "source": [
    "model4 = LogisticRegressionCV(cv=4,Cs=5,penalty='l2')"
   ]
  },
  {
   "cell_type": "code",
   "execution_count": 49,
   "id": "137a9215",
   "metadata": {},
   "outputs": [
    {
     "data": {
      "text/plain": [
       "LogisticRegressionCV(Cs=5, cv=4)"
      ]
     },
     "execution_count": 49,
     "metadata": {},
     "output_type": "execute_result"
    }
   ],
   "source": [
    "model4.fit(X_train,y_train)"
   ]
  },
  {
   "cell_type": "code",
   "execution_count": 50,
   "id": "14b251f3",
   "metadata": {},
   "outputs": [],
   "source": [
    "y_pred4=model4.predict(X_test)"
   ]
  },
  {
   "cell_type": "code",
   "execution_count": 51,
   "id": "478a0c0f",
   "metadata": {},
   "outputs": [
    {
     "data": {
      "text/plain": [
       "0.9977777777777778"
      ]
     },
     "execution_count": 51,
     "metadata": {},
     "output_type": "execute_result"
    }
   ],
   "source": [
    "accuracy_score(y_test,y_pred4)"
   ]
  },
  {
   "cell_type": "code",
   "execution_count": 52,
   "id": "ea6036b1",
   "metadata": {},
   "outputs": [
    {
     "name": "stdout",
     "output_type": "stream",
     "text": [
      "              precision    recall  f1-score   support\n",
      "\n",
      "      LAYING       1.00      1.00      1.00       148\n",
      "     SITTING       1.00      0.99      1.00       141\n",
      "     WALKING       0.99      1.00      1.00       161\n",
      "\n",
      "    accuracy                           1.00       450\n",
      "   macro avg       1.00      1.00      1.00       450\n",
      "weighted avg       1.00      1.00      1.00       450\n",
      "\n"
     ]
    }
   ],
   "source": [
    "print(classification_report(y_test,y_pred4))"
   ]
  },
  {
   "cell_type": "markdown",
   "id": "62c84f5b",
   "metadata": {},
   "source": [
    "## Step 7 [ Build VotingClassifier]"
   ]
  },
  {
   "cell_type": "code",
   "execution_count": 53,
   "id": "ab500953",
   "metadata": {},
   "outputs": [],
   "source": [
    "model5=VotingClassifier(estimators=[('lr',model4),('gbc',model1)], voting='hard')"
   ]
  },
  {
   "cell_type": "code",
   "execution_count": 54,
   "id": "62de0de9",
   "metadata": {},
   "outputs": [
    {
     "data": {
      "text/plain": [
       "VotingClassifier(estimators=[('lr', LogisticRegressionCV(Cs=5, cv=4)),\n",
       "                             ('gbc',\n",
       "                              GridSearchCV(cv=5,\n",
       "                                           estimator=GradientBoostingClassifier(),\n",
       "                                           n_jobs=-1,\n",
       "                                           param_grid={'learning_rate': [0.1,\n",
       "                                                                         0.01],\n",
       "                                                       'n_estimators': [50, 100,\n",
       "                                                                        200,\n",
       "                                                                        400]}))])"
      ]
     },
     "execution_count": 54,
     "metadata": {},
     "output_type": "execute_result"
    }
   ],
   "source": [
    "model5.fit(X_train,y_train)"
   ]
  },
  {
   "cell_type": "code",
   "execution_count": 55,
   "id": "e066eeba",
   "metadata": {},
   "outputs": [],
   "source": [
    "y_pred5=model5.predict(X_test)"
   ]
  },
  {
   "cell_type": "code",
   "execution_count": 56,
   "id": "7ed0c348",
   "metadata": {},
   "outputs": [
    {
     "name": "stdout",
     "output_type": "stream",
     "text": [
      "              precision    recall  f1-score   support\n",
      "\n",
      "      LAYING       1.00      1.00      1.00       148\n",
      "     SITTING       1.00      1.00      1.00       141\n",
      "     WALKING       1.00      1.00      1.00       161\n",
      "\n",
      "    accuracy                           1.00       450\n",
      "   macro avg       1.00      1.00      1.00       450\n",
      "weighted avg       1.00      1.00      1.00       450\n",
      "\n"
     ]
    }
   ],
   "source": [
    "print(classification_report(y_test,y_pred5))"
   ]
  },
  {
   "cell_type": "markdown",
   "id": "000e92ed",
   "metadata": {},
   "source": [
    "## Step8. [ Interpret your results]"
   ]
  },
  {
   "cell_type": "code",
   "execution_count": 57,
   "id": "6f868b0a",
   "metadata": {},
   "outputs": [
    {
     "name": "stdout",
     "output_type": "stream",
     "text": [
      "GradientBoostingClassifier(n_estimators=50)\n"
     ]
    }
   ],
   "source": [
    "print(model1.best_estimator_)"
   ]
  },
  {
   "cell_type": "code",
   "execution_count": 58,
   "id": "85d4f466",
   "metadata": {},
   "outputs": [
    {
     "name": "stdout",
     "output_type": "stream",
     "text": [
      "AdaBoostClassifier(base_estimator=DecisionTreeClassifier(), learning_rate=0.01,\n",
      "                   n_estimators=100, random_state=0)\n"
     ]
    }
   ],
   "source": [
    "print(model3.best_estimator_)"
   ]
  },
  {
   "cell_type": "markdown",
   "id": "ce8b3c3a",
   "metadata": {},
   "source": [
    "## GradientBoostingClassifier"
   ]
  },
  {
   "cell_type": "markdown",
   "id": "e0f212b9",
   "metadata": {},
   "source": [
    "### GradientBoostingClassifier(n_estimators=50)"
   ]
  },
  {
   "cell_type": "code",
   "execution_count": 59,
   "id": "c4e4f606",
   "metadata": {},
   "outputs": [],
   "source": [
    "classifierF = GradientBoostingClassifier(n_estimators=50)\n",
    "all_scoresF = cross_val_score(estimator=classifier, X=X_train, y=y_train, cv=5)\n",
    "parameter = {'n_estimators': [50, 100, 200, 400], 'learning_rate': [0.1, 0.01]}"
   ]
  },
  {
   "cell_type": "code",
   "execution_count": 60,
   "id": "754070d5",
   "metadata": {},
   "outputs": [],
   "source": [
    "modelGC = GridSearchCV(estimator=classifier, param_grid=parameter,cv=5, n_jobs=-1)"
   ]
  },
  {
   "cell_type": "code",
   "execution_count": 61,
   "id": "e29e154f",
   "metadata": {},
   "outputs": [
    {
     "data": {
      "text/plain": [
       "GridSearchCV(cv=5, estimator=GradientBoostingClassifier(), n_jobs=-1,\n",
       "             param_grid={'learning_rate': [0.1, 0.01],\n",
       "                         'n_estimators': [50, 100, 200, 400]})"
      ]
     },
     "execution_count": 61,
     "metadata": {},
     "output_type": "execute_result"
    }
   ],
   "source": [
    "modelGC.fit(X_train,y_train)"
   ]
  },
  {
   "cell_type": "code",
   "execution_count": 62,
   "id": "983cc7bf",
   "metadata": {},
   "outputs": [],
   "source": [
    "y_predGC=model3.predict(X_test)"
   ]
  },
  {
   "cell_type": "code",
   "execution_count": 63,
   "id": "b73c879d",
   "metadata": {},
   "outputs": [
    {
     "data": {
      "text/plain": [
       "0.9977777777777778"
      ]
     },
     "execution_count": 63,
     "metadata": {},
     "output_type": "execute_result"
    }
   ],
   "source": [
    "accuracy_score(y_test,y_predGC)"
   ]
  },
  {
   "cell_type": "code",
   "execution_count": 64,
   "id": "f5d3a895",
   "metadata": {},
   "outputs": [
    {
     "name": "stdout",
     "output_type": "stream",
     "text": [
      "              precision    recall  f1-score   support\n",
      "\n",
      "      LAYING       1.00      1.00      1.00       148\n",
      "     SITTING       1.00      0.99      1.00       141\n",
      "     WALKING       0.99      1.00      1.00       161\n",
      "\n",
      "    accuracy                           1.00       450\n",
      "   macro avg       1.00      1.00      1.00       450\n",
      "weighted avg       1.00      1.00      1.00       450\n",
      "\n"
     ]
    }
   ],
   "source": [
    "print(classification_report(y_test,y_predGC))"
   ]
  },
  {
   "cell_type": "markdown",
   "id": "d756a197",
   "metadata": {},
   "source": [
    "## AdaBoostClassifier"
   ]
  },
  {
   "cell_type": "markdown",
   "id": "bcda51c8",
   "metadata": {},
   "source": [
    "### AdaBoostClassifier(base_estimator=DecisionTreeClassifier(),learning_rate=0.01,n_estimators=100, random_state=0)"
   ]
  },
  {
   "cell_type": "code",
   "execution_count": 66,
   "id": "0d3bef8c",
   "metadata": {},
   "outputs": [],
   "source": [
    "modelABC = AdaBoostClassifier(base_estimator=DecisionTreeClassifier(), learning_rate=0.01,n_estimators=100,random_state=0)"
   ]
  },
  {
   "cell_type": "code",
   "execution_count": 67,
   "id": "ff924f0e",
   "metadata": {},
   "outputs": [],
   "source": [
    "param_grid = {'n_estimators': [100, 150, 200], 'learning_rate': [0.01, 0.001]}"
   ]
  },
  {
   "cell_type": "code",
   "execution_count": 68,
   "id": "83545f01",
   "metadata": {},
   "outputs": [
    {
     "data": {
      "text/plain": [
       "GridSearchCV(cv=5,\n",
       "             estimator=AdaBoostClassifier(base_estimator=DecisionTreeClassifier(),\n",
       "                                          learning_rate=0.01, n_estimators=100,\n",
       "                                          random_state=0),\n",
       "             n_jobs=-1,\n",
       "             param_grid={'learning_rate': [0.01, 0.001],\n",
       "                         'n_estimators': [100, 150, 200]})"
      ]
     },
     "execution_count": 68,
     "metadata": {},
     "output_type": "execute_result"
    }
   ],
   "source": [
    "modelGSCV = GridSearchCV(modelABC,param_grid,cv=5,n_jobs=-1)\n",
    "modelGSCV.fit(X_train,y_train)"
   ]
  },
  {
   "cell_type": "code",
   "execution_count": 69,
   "id": "3ddaa4ad",
   "metadata": {},
   "outputs": [],
   "source": [
    "y_predGSCV=model3.predict(X_test)"
   ]
  },
  {
   "cell_type": "code",
   "execution_count": 70,
   "id": "8c6892cb",
   "metadata": {},
   "outputs": [
    {
     "data": {
      "text/plain": [
       "0.9977777777777778"
      ]
     },
     "execution_count": 70,
     "metadata": {},
     "output_type": "execute_result"
    }
   ],
   "source": [
    "accuracy_score(y_test,y_predGSCV)"
   ]
  },
  {
   "cell_type": "code",
   "execution_count": 71,
   "id": "f44d31e5",
   "metadata": {},
   "outputs": [
    {
     "name": "stdout",
     "output_type": "stream",
     "text": [
      "              precision    recall  f1-score   support\n",
      "\n",
      "      LAYING       1.00      1.00      1.00       148\n",
      "     SITTING       1.00      0.99      1.00       141\n",
      "     WALKING       0.99      1.00      1.00       161\n",
      "\n",
      "    accuracy                           1.00       450\n",
      "   macro avg       1.00      1.00      1.00       450\n",
      "weighted avg       1.00      1.00      1.00       450\n",
      "\n"
     ]
    }
   ],
   "source": [
    "print(classification_report(y_test,y_predGSCV))"
   ]
  },
  {
   "cell_type": "code",
   "execution_count": null,
   "id": "31a33ddd",
   "metadata": {},
   "outputs": [],
   "source": [
    "  "
   ]
  }
 ],
 "metadata": {
  "kernelspec": {
   "display_name": "Python 3 (ipykernel)",
   "language": "python",
   "name": "python3"
  },
  "language_info": {
   "codemirror_mode": {
    "name": "ipython",
    "version": 3
   },
   "file_extension": ".py",
   "mimetype": "text/x-python",
   "name": "python",
   "nbconvert_exporter": "python",
   "pygments_lexer": "ipython3",
   "version": "3.9.12"
  }
 },
 "nbformat": 4,
 "nbformat_minor": 5
}

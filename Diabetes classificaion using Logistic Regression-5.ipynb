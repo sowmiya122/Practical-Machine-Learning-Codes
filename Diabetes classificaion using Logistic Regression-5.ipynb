{
 "cells": [
  {
   "cell_type": "markdown",
   "id": "23447463",
   "metadata": {},
   "source": [
    "# Lab5.Diabetes classificaion using Logistic Regression"
   ]
  },
  {
   "cell_type": "markdown",
   "id": "e93e3eca",
   "metadata": {},
   "source": [
    "# Step1. [Understand Data]"
   ]
  },
  {
   "cell_type": "code",
   "execution_count": 1,
   "id": "10027dac",
   "metadata": {},
   "outputs": [],
   "source": [
    "import pandas as pd"
   ]
  },
  {
   "cell_type": "code",
   "execution_count": 2,
   "id": "c6bd23c9",
   "metadata": {},
   "outputs": [],
   "source": [
    "file=pd.read_csv(\"diabetes.csv\")"
   ]
  },
  {
   "cell_type": "code",
   "execution_count": 3,
   "id": "9a41cf0b",
   "metadata": {},
   "outputs": [
    {
     "data": {
      "text/html": [
       "<div>\n",
       "<style scoped>\n",
       "    .dataframe tbody tr th:only-of-type {\n",
       "        vertical-align: middle;\n",
       "    }\n",
       "\n",
       "    .dataframe tbody tr th {\n",
       "        vertical-align: top;\n",
       "    }\n",
       "\n",
       "    .dataframe thead th {\n",
       "        text-align: right;\n",
       "    }\n",
       "</style>\n",
       "<table border=\"1\" class=\"dataframe\">\n",
       "  <thead>\n",
       "    <tr style=\"text-align: right;\">\n",
       "      <th></th>\n",
       "      <th>Pregnancies</th>\n",
       "      <th>Glucose</th>\n",
       "      <th>BloodPressure</th>\n",
       "      <th>SkinThickness</th>\n",
       "      <th>Insulin</th>\n",
       "      <th>BMI</th>\n",
       "      <th>DiabetesPedigreeFunction</th>\n",
       "      <th>Age</th>\n",
       "      <th>Outcome</th>\n",
       "    </tr>\n",
       "  </thead>\n",
       "  <tbody>\n",
       "    <tr>\n",
       "      <th>0</th>\n",
       "      <td>6</td>\n",
       "      <td>148</td>\n",
       "      <td>72</td>\n",
       "      <td>35</td>\n",
       "      <td>0</td>\n",
       "      <td>33.6</td>\n",
       "      <td>0.627</td>\n",
       "      <td>50</td>\n",
       "      <td>1</td>\n",
       "    </tr>\n",
       "    <tr>\n",
       "      <th>1</th>\n",
       "      <td>1</td>\n",
       "      <td>85</td>\n",
       "      <td>66</td>\n",
       "      <td>29</td>\n",
       "      <td>0</td>\n",
       "      <td>26.6</td>\n",
       "      <td>0.351</td>\n",
       "      <td>31</td>\n",
       "      <td>0</td>\n",
       "    </tr>\n",
       "    <tr>\n",
       "      <th>2</th>\n",
       "      <td>8</td>\n",
       "      <td>183</td>\n",
       "      <td>64</td>\n",
       "      <td>0</td>\n",
       "      <td>0</td>\n",
       "      <td>23.3</td>\n",
       "      <td>0.672</td>\n",
       "      <td>32</td>\n",
       "      <td>1</td>\n",
       "    </tr>\n",
       "    <tr>\n",
       "      <th>3</th>\n",
       "      <td>1</td>\n",
       "      <td>89</td>\n",
       "      <td>66</td>\n",
       "      <td>23</td>\n",
       "      <td>94</td>\n",
       "      <td>28.1</td>\n",
       "      <td>0.167</td>\n",
       "      <td>21</td>\n",
       "      <td>0</td>\n",
       "    </tr>\n",
       "    <tr>\n",
       "      <th>4</th>\n",
       "      <td>0</td>\n",
       "      <td>137</td>\n",
       "      <td>40</td>\n",
       "      <td>35</td>\n",
       "      <td>168</td>\n",
       "      <td>43.1</td>\n",
       "      <td>2.288</td>\n",
       "      <td>33</td>\n",
       "      <td>1</td>\n",
       "    </tr>\n",
       "    <tr>\n",
       "      <th>...</th>\n",
       "      <td>...</td>\n",
       "      <td>...</td>\n",
       "      <td>...</td>\n",
       "      <td>...</td>\n",
       "      <td>...</td>\n",
       "      <td>...</td>\n",
       "      <td>...</td>\n",
       "      <td>...</td>\n",
       "      <td>...</td>\n",
       "    </tr>\n",
       "    <tr>\n",
       "      <th>763</th>\n",
       "      <td>10</td>\n",
       "      <td>101</td>\n",
       "      <td>76</td>\n",
       "      <td>48</td>\n",
       "      <td>180</td>\n",
       "      <td>32.9</td>\n",
       "      <td>0.171</td>\n",
       "      <td>63</td>\n",
       "      <td>0</td>\n",
       "    </tr>\n",
       "    <tr>\n",
       "      <th>764</th>\n",
       "      <td>2</td>\n",
       "      <td>122</td>\n",
       "      <td>70</td>\n",
       "      <td>27</td>\n",
       "      <td>0</td>\n",
       "      <td>36.8</td>\n",
       "      <td>0.340</td>\n",
       "      <td>27</td>\n",
       "      <td>0</td>\n",
       "    </tr>\n",
       "    <tr>\n",
       "      <th>765</th>\n",
       "      <td>5</td>\n",
       "      <td>121</td>\n",
       "      <td>72</td>\n",
       "      <td>23</td>\n",
       "      <td>112</td>\n",
       "      <td>26.2</td>\n",
       "      <td>0.245</td>\n",
       "      <td>30</td>\n",
       "      <td>0</td>\n",
       "    </tr>\n",
       "    <tr>\n",
       "      <th>766</th>\n",
       "      <td>1</td>\n",
       "      <td>126</td>\n",
       "      <td>60</td>\n",
       "      <td>0</td>\n",
       "      <td>0</td>\n",
       "      <td>30.1</td>\n",
       "      <td>0.349</td>\n",
       "      <td>47</td>\n",
       "      <td>1</td>\n",
       "    </tr>\n",
       "    <tr>\n",
       "      <th>767</th>\n",
       "      <td>1</td>\n",
       "      <td>93</td>\n",
       "      <td>70</td>\n",
       "      <td>31</td>\n",
       "      <td>0</td>\n",
       "      <td>30.4</td>\n",
       "      <td>0.315</td>\n",
       "      <td>23</td>\n",
       "      <td>0</td>\n",
       "    </tr>\n",
       "  </tbody>\n",
       "</table>\n",
       "<p>768 rows × 9 columns</p>\n",
       "</div>"
      ],
      "text/plain": [
       "     Pregnancies  Glucose  BloodPressure  SkinThickness  Insulin   BMI  \\\n",
       "0              6      148             72             35        0  33.6   \n",
       "1              1       85             66             29        0  26.6   \n",
       "2              8      183             64              0        0  23.3   \n",
       "3              1       89             66             23       94  28.1   \n",
       "4              0      137             40             35      168  43.1   \n",
       "..           ...      ...            ...            ...      ...   ...   \n",
       "763           10      101             76             48      180  32.9   \n",
       "764            2      122             70             27        0  36.8   \n",
       "765            5      121             72             23      112  26.2   \n",
       "766            1      126             60              0        0  30.1   \n",
       "767            1       93             70             31        0  30.4   \n",
       "\n",
       "     DiabetesPedigreeFunction  Age  Outcome  \n",
       "0                       0.627   50        1  \n",
       "1                       0.351   31        0  \n",
       "2                       0.672   32        1  \n",
       "3                       0.167   21        0  \n",
       "4                       2.288   33        1  \n",
       "..                        ...  ...      ...  \n",
       "763                     0.171   63        0  \n",
       "764                     0.340   27        0  \n",
       "765                     0.245   30        0  \n",
       "766                     0.349   47        1  \n",
       "767                     0.315   23        0  \n",
       "\n",
       "[768 rows x 9 columns]"
      ]
     },
     "execution_count": 3,
     "metadata": {},
     "output_type": "execute_result"
    }
   ],
   "source": [
    "file"
   ]
  },
  {
   "cell_type": "code",
   "execution_count": 4,
   "id": "7647307e",
   "metadata": {},
   "outputs": [
    {
     "data": {
      "text/html": [
       "<div>\n",
       "<style scoped>\n",
       "    .dataframe tbody tr th:only-of-type {\n",
       "        vertical-align: middle;\n",
       "    }\n",
       "\n",
       "    .dataframe tbody tr th {\n",
       "        vertical-align: top;\n",
       "    }\n",
       "\n",
       "    .dataframe thead th {\n",
       "        text-align: right;\n",
       "    }\n",
       "</style>\n",
       "<table border=\"1\" class=\"dataframe\">\n",
       "  <thead>\n",
       "    <tr style=\"text-align: right;\">\n",
       "      <th></th>\n",
       "      <th>Pregnancies</th>\n",
       "      <th>Glucose</th>\n",
       "      <th>BloodPressure</th>\n",
       "      <th>SkinThickness</th>\n",
       "      <th>Insulin</th>\n",
       "      <th>BMI</th>\n",
       "      <th>DiabetesPedigreeFunction</th>\n",
       "      <th>Age</th>\n",
       "      <th>Outcome</th>\n",
       "    </tr>\n",
       "  </thead>\n",
       "  <tbody>\n",
       "    <tr>\n",
       "      <th>0</th>\n",
       "      <td>6</td>\n",
       "      <td>148</td>\n",
       "      <td>72</td>\n",
       "      <td>35</td>\n",
       "      <td>0</td>\n",
       "      <td>33.6</td>\n",
       "      <td>0.627</td>\n",
       "      <td>50</td>\n",
       "      <td>1</td>\n",
       "    </tr>\n",
       "    <tr>\n",
       "      <th>1</th>\n",
       "      <td>1</td>\n",
       "      <td>85</td>\n",
       "      <td>66</td>\n",
       "      <td>29</td>\n",
       "      <td>0</td>\n",
       "      <td>26.6</td>\n",
       "      <td>0.351</td>\n",
       "      <td>31</td>\n",
       "      <td>0</td>\n",
       "    </tr>\n",
       "    <tr>\n",
       "      <th>2</th>\n",
       "      <td>8</td>\n",
       "      <td>183</td>\n",
       "      <td>64</td>\n",
       "      <td>0</td>\n",
       "      <td>0</td>\n",
       "      <td>23.3</td>\n",
       "      <td>0.672</td>\n",
       "      <td>32</td>\n",
       "      <td>1</td>\n",
       "    </tr>\n",
       "    <tr>\n",
       "      <th>3</th>\n",
       "      <td>1</td>\n",
       "      <td>89</td>\n",
       "      <td>66</td>\n",
       "      <td>23</td>\n",
       "      <td>94</td>\n",
       "      <td>28.1</td>\n",
       "      <td>0.167</td>\n",
       "      <td>21</td>\n",
       "      <td>0</td>\n",
       "    </tr>\n",
       "    <tr>\n",
       "      <th>4</th>\n",
       "      <td>0</td>\n",
       "      <td>137</td>\n",
       "      <td>40</td>\n",
       "      <td>35</td>\n",
       "      <td>168</td>\n",
       "      <td>43.1</td>\n",
       "      <td>2.288</td>\n",
       "      <td>33</td>\n",
       "      <td>1</td>\n",
       "    </tr>\n",
       "  </tbody>\n",
       "</table>\n",
       "</div>"
      ],
      "text/plain": [
       "   Pregnancies  Glucose  BloodPressure  SkinThickness  Insulin   BMI  \\\n",
       "0            6      148             72             35        0  33.6   \n",
       "1            1       85             66             29        0  26.6   \n",
       "2            8      183             64              0        0  23.3   \n",
       "3            1       89             66             23       94  28.1   \n",
       "4            0      137             40             35      168  43.1   \n",
       "\n",
       "   DiabetesPedigreeFunction  Age  Outcome  \n",
       "0                     0.627   50        1  \n",
       "1                     0.351   31        0  \n",
       "2                     0.672   32        1  \n",
       "3                     0.167   21        0  \n",
       "4                     2.288   33        1  "
      ]
     },
     "execution_count": 4,
     "metadata": {},
     "output_type": "execute_result"
    }
   ],
   "source": [
    "file.head()"
   ]
  },
  {
   "cell_type": "code",
   "execution_count": 5,
   "id": "268e8f00",
   "metadata": {},
   "outputs": [
    {
     "data": {
      "text/plain": [
       "(768, 9)"
      ]
     },
     "execution_count": 5,
     "metadata": {},
     "output_type": "execute_result"
    }
   ],
   "source": [
    "file.shape"
   ]
  },
  {
   "cell_type": "code",
   "execution_count": 6,
   "id": "8ff95135",
   "metadata": {},
   "outputs": [
    {
     "data": {
      "text/plain": [
       "Index(['Pregnancies', 'Glucose', 'BloodPressure', 'SkinThickness', 'Insulin',\n",
       "       'BMI', 'DiabetesPedigreeFunction', 'Age', 'Outcome'],\n",
       "      dtype='object')"
      ]
     },
     "execution_count": 6,
     "metadata": {},
     "output_type": "execute_result"
    }
   ],
   "source": [
    "file.columns"
   ]
  },
  {
   "cell_type": "code",
   "execution_count": 7,
   "id": "b1b94e12",
   "metadata": {},
   "outputs": [
    {
     "data": {
      "text/plain": [
       "pandas.core.frame.DataFrame"
      ]
     },
     "execution_count": 7,
     "metadata": {},
     "output_type": "execute_result"
    }
   ],
   "source": [
    "type(file)"
   ]
  },
  {
   "cell_type": "code",
   "execution_count": 8,
   "id": "21073634",
   "metadata": {
    "scrolled": true
   },
   "outputs": [
    {
     "name": "stdout",
     "output_type": "stream",
     "text": [
      "<class 'pandas.core.frame.DataFrame'>\n",
      "RangeIndex: 768 entries, 0 to 767\n",
      "Data columns (total 9 columns):\n",
      " #   Column                    Non-Null Count  Dtype  \n",
      "---  ------                    --------------  -----  \n",
      " 0   Pregnancies               768 non-null    int64  \n",
      " 1   Glucose                   768 non-null    int64  \n",
      " 2   BloodPressure             768 non-null    int64  \n",
      " 3   SkinThickness             768 non-null    int64  \n",
      " 4   Insulin                   768 non-null    int64  \n",
      " 5   BMI                       768 non-null    float64\n",
      " 6   DiabetesPedigreeFunction  768 non-null    float64\n",
      " 7   Age                       768 non-null    int64  \n",
      " 8   Outcome                   768 non-null    int64  \n",
      "dtypes: float64(2), int64(7)\n",
      "memory usage: 54.1 KB\n"
     ]
    }
   ],
   "source": [
    "file.info()"
   ]
  },
  {
   "cell_type": "code",
   "execution_count": 9,
   "id": "fcaf83ce",
   "metadata": {},
   "outputs": [
    {
     "data": {
      "text/plain": [
       "Pregnancies  Glucose  BloodPressure  SkinThickness  Insulin  BMI   DiabetesPedigreeFunction  Age  Outcome\n",
       "0            57       60             0              0        21.7  0.735                     67   0          1\n",
       "             67       76             0              0        45.3  0.194                     46   0          1\n",
       "5            103      108            37             0        39.2  0.305                     65   0          1\n",
       "             104      74             0              0        28.8  0.153                     48   0          1\n",
       "             105      72             29             325      36.9  0.159                     28   0          1\n",
       "                                                                                                            ..\n",
       "2            84       50             23             76       30.4  0.968                     21   0          1\n",
       "             85       65             0              0        39.6  0.930                     27   0          1\n",
       "             87       0              23             0        28.9  0.773                     25   0          1\n",
       "                      58             16             52       32.7  0.166                     25   0          1\n",
       "17           163      72             41             114      40.9  0.817                     47   1          1\n",
       "Length: 768, dtype: int64"
      ]
     },
     "execution_count": 9,
     "metadata": {},
     "output_type": "execute_result"
    }
   ],
   "source": [
    "file.value_counts()"
   ]
  },
  {
   "cell_type": "markdown",
   "id": "ea21d99d",
   "metadata": {},
   "source": [
    "# Step2. [Build Logistic Regression Model]"
   ]
  },
  {
   "cell_type": "markdown",
   "id": "cb662d9e",
   "metadata": {},
   "source": [
    "# * Prepare X matrix and Y vector"
   ]
  },
  {
   "cell_type": "code",
   "execution_count": 10,
   "id": "8063518f",
   "metadata": {},
   "outputs": [
    {
     "data": {
      "text/html": [
       "<div>\n",
       "<style scoped>\n",
       "    .dataframe tbody tr th:only-of-type {\n",
       "        vertical-align: middle;\n",
       "    }\n",
       "\n",
       "    .dataframe tbody tr th {\n",
       "        vertical-align: top;\n",
       "    }\n",
       "\n",
       "    .dataframe thead th {\n",
       "        text-align: right;\n",
       "    }\n",
       "</style>\n",
       "<table border=\"1\" class=\"dataframe\">\n",
       "  <thead>\n",
       "    <tr style=\"text-align: right;\">\n",
       "      <th></th>\n",
       "      <th>Pregnancies</th>\n",
       "      <th>Glucose</th>\n",
       "      <th>BloodPressure</th>\n",
       "      <th>SkinThickness</th>\n",
       "      <th>Insulin</th>\n",
       "      <th>BMI</th>\n",
       "      <th>DiabetesPedigreeFunction</th>\n",
       "      <th>Age</th>\n",
       "    </tr>\n",
       "  </thead>\n",
       "  <tbody>\n",
       "    <tr>\n",
       "      <th>0</th>\n",
       "      <td>6</td>\n",
       "      <td>148</td>\n",
       "      <td>72</td>\n",
       "      <td>35</td>\n",
       "      <td>0</td>\n",
       "      <td>33.6</td>\n",
       "      <td>0.627</td>\n",
       "      <td>50</td>\n",
       "    </tr>\n",
       "    <tr>\n",
       "      <th>1</th>\n",
       "      <td>1</td>\n",
       "      <td>85</td>\n",
       "      <td>66</td>\n",
       "      <td>29</td>\n",
       "      <td>0</td>\n",
       "      <td>26.6</td>\n",
       "      <td>0.351</td>\n",
       "      <td>31</td>\n",
       "    </tr>\n",
       "    <tr>\n",
       "      <th>2</th>\n",
       "      <td>8</td>\n",
       "      <td>183</td>\n",
       "      <td>64</td>\n",
       "      <td>0</td>\n",
       "      <td>0</td>\n",
       "      <td>23.3</td>\n",
       "      <td>0.672</td>\n",
       "      <td>32</td>\n",
       "    </tr>\n",
       "    <tr>\n",
       "      <th>3</th>\n",
       "      <td>1</td>\n",
       "      <td>89</td>\n",
       "      <td>66</td>\n",
       "      <td>23</td>\n",
       "      <td>94</td>\n",
       "      <td>28.1</td>\n",
       "      <td>0.167</td>\n",
       "      <td>21</td>\n",
       "    </tr>\n",
       "    <tr>\n",
       "      <th>4</th>\n",
       "      <td>0</td>\n",
       "      <td>137</td>\n",
       "      <td>40</td>\n",
       "      <td>35</td>\n",
       "      <td>168</td>\n",
       "      <td>43.1</td>\n",
       "      <td>2.288</td>\n",
       "      <td>33</td>\n",
       "    </tr>\n",
       "    <tr>\n",
       "      <th>...</th>\n",
       "      <td>...</td>\n",
       "      <td>...</td>\n",
       "      <td>...</td>\n",
       "      <td>...</td>\n",
       "      <td>...</td>\n",
       "      <td>...</td>\n",
       "      <td>...</td>\n",
       "      <td>...</td>\n",
       "    </tr>\n",
       "    <tr>\n",
       "      <th>763</th>\n",
       "      <td>10</td>\n",
       "      <td>101</td>\n",
       "      <td>76</td>\n",
       "      <td>48</td>\n",
       "      <td>180</td>\n",
       "      <td>32.9</td>\n",
       "      <td>0.171</td>\n",
       "      <td>63</td>\n",
       "    </tr>\n",
       "    <tr>\n",
       "      <th>764</th>\n",
       "      <td>2</td>\n",
       "      <td>122</td>\n",
       "      <td>70</td>\n",
       "      <td>27</td>\n",
       "      <td>0</td>\n",
       "      <td>36.8</td>\n",
       "      <td>0.340</td>\n",
       "      <td>27</td>\n",
       "    </tr>\n",
       "    <tr>\n",
       "      <th>765</th>\n",
       "      <td>5</td>\n",
       "      <td>121</td>\n",
       "      <td>72</td>\n",
       "      <td>23</td>\n",
       "      <td>112</td>\n",
       "      <td>26.2</td>\n",
       "      <td>0.245</td>\n",
       "      <td>30</td>\n",
       "    </tr>\n",
       "    <tr>\n",
       "      <th>766</th>\n",
       "      <td>1</td>\n",
       "      <td>126</td>\n",
       "      <td>60</td>\n",
       "      <td>0</td>\n",
       "      <td>0</td>\n",
       "      <td>30.1</td>\n",
       "      <td>0.349</td>\n",
       "      <td>47</td>\n",
       "    </tr>\n",
       "    <tr>\n",
       "      <th>767</th>\n",
       "      <td>1</td>\n",
       "      <td>93</td>\n",
       "      <td>70</td>\n",
       "      <td>31</td>\n",
       "      <td>0</td>\n",
       "      <td>30.4</td>\n",
       "      <td>0.315</td>\n",
       "      <td>23</td>\n",
       "    </tr>\n",
       "  </tbody>\n",
       "</table>\n",
       "<p>768 rows × 8 columns</p>\n",
       "</div>"
      ],
      "text/plain": [
       "     Pregnancies  Glucose  BloodPressure  SkinThickness  Insulin   BMI  \\\n",
       "0              6      148             72             35        0  33.6   \n",
       "1              1       85             66             29        0  26.6   \n",
       "2              8      183             64              0        0  23.3   \n",
       "3              1       89             66             23       94  28.1   \n",
       "4              0      137             40             35      168  43.1   \n",
       "..           ...      ...            ...            ...      ...   ...   \n",
       "763           10      101             76             48      180  32.9   \n",
       "764            2      122             70             27        0  36.8   \n",
       "765            5      121             72             23      112  26.2   \n",
       "766            1      126             60              0        0  30.1   \n",
       "767            1       93             70             31        0  30.4   \n",
       "\n",
       "     DiabetesPedigreeFunction  Age  \n",
       "0                       0.627   50  \n",
       "1                       0.351   31  \n",
       "2                       0.672   32  \n",
       "3                       0.167   21  \n",
       "4                       2.288   33  \n",
       "..                        ...  ...  \n",
       "763                     0.171   63  \n",
       "764                     0.340   27  \n",
       "765                     0.245   30  \n",
       "766                     0.349   47  \n",
       "767                     0.315   23  \n",
       "\n",
       "[768 rows x 8 columns]"
      ]
     },
     "execution_count": 10,
     "metadata": {},
     "output_type": "execute_result"
    }
   ],
   "source": [
    "X=file.drop(\"Outcome\",axis=1)\n",
    "X"
   ]
  },
  {
   "cell_type": "code",
   "execution_count": 11,
   "id": "3d834c99",
   "metadata": {},
   "outputs": [
    {
     "data": {
      "text/plain": [
       "array([1, 0, 1, 0, 1, 0, 1, 0, 1, 1, 0, 1, 0, 1, 1, 1, 1, 1, 0, 1, 0, 0,\n",
       "       1, 1, 1, 1, 1, 0, 0, 0, 0, 1, 0, 0, 0, 0, 0, 1, 1, 1, 0, 0, 0, 1,\n",
       "       0, 1, 0, 0, 1, 0, 0, 0, 0, 1, 0, 0, 1, 0, 0, 0, 0, 1, 0, 0, 1, 0,\n",
       "       1, 0, 0, 0, 1, 0, 1, 0, 0, 0, 0, 0, 1, 0, 0, 0, 0, 0, 1, 0, 0, 0,\n",
       "       1, 0, 0, 0, 0, 1, 0, 0, 0, 0, 0, 1, 1, 0, 0, 0, 0, 0, 0, 0, 0, 1,\n",
       "       1, 1, 0, 0, 1, 1, 1, 0, 0, 0, 1, 0, 0, 0, 1, 1, 0, 0, 1, 1, 1, 1,\n",
       "       1, 0, 0, 0, 0, 0, 0, 0, 0, 0, 0, 1, 0, 0, 0, 0, 0, 0, 0, 0, 1, 0,\n",
       "       1, 1, 0, 0, 0, 1, 0, 0, 0, 0, 1, 1, 0, 0, 0, 0, 1, 1, 0, 0, 0, 1,\n",
       "       0, 1, 0, 1, 0, 0, 0, 0, 0, 1, 1, 1, 1, 1, 0, 0, 1, 1, 0, 1, 0, 1,\n",
       "       1, 1, 0, 0, 0, 0, 0, 0, 1, 1, 0, 1, 0, 0, 0, 1, 1, 1, 1, 0, 1, 1,\n",
       "       1, 1, 0, 0, 0, 0, 0, 1, 0, 0, 1, 1, 0, 0, 0, 1, 1, 1, 1, 0, 0, 0,\n",
       "       1, 1, 0, 1, 0, 0, 0, 0, 0, 0, 0, 0, 1, 1, 0, 0, 0, 1, 0, 1, 0, 0,\n",
       "       1, 0, 1, 0, 0, 1, 1, 0, 0, 0, 0, 0, 1, 0, 0, 0, 1, 0, 0, 1, 1, 0,\n",
       "       0, 1, 0, 0, 0, 1, 1, 1, 0, 0, 1, 0, 1, 0, 1, 1, 0, 1, 0, 0, 1, 0,\n",
       "       1, 1, 0, 0, 1, 0, 1, 0, 0, 1, 0, 1, 0, 1, 1, 1, 0, 0, 1, 0, 1, 0,\n",
       "       0, 0, 1, 0, 0, 0, 0, 1, 1, 1, 0, 0, 0, 0, 0, 0, 0, 0, 0, 1, 0, 0,\n",
       "       0, 0, 0, 1, 1, 1, 0, 1, 1, 0, 0, 1, 0, 0, 1, 0, 0, 1, 1, 0, 0, 0,\n",
       "       0, 1, 0, 0, 1, 0, 0, 0, 0, 0, 0, 0, 1, 1, 1, 0, 0, 1, 0, 0, 1, 0,\n",
       "       0, 1, 0, 1, 1, 0, 1, 0, 1, 0, 1, 0, 1, 1, 0, 0, 0, 0, 1, 1, 0, 1,\n",
       "       0, 1, 0, 0, 0, 0, 1, 1, 0, 1, 0, 1, 0, 0, 0, 0, 0, 1, 0, 0, 0, 0,\n",
       "       1, 0, 0, 1, 1, 1, 0, 0, 1, 0, 0, 1, 0, 0, 0, 1, 0, 0, 1, 0, 0, 0,\n",
       "       0, 0, 0, 0, 0, 0, 1, 0, 0, 0, 0, 0, 0, 0, 1, 0, 0, 0, 1, 0, 0, 0,\n",
       "       1, 1, 0, 0, 0, 0, 0, 0, 0, 1, 0, 0, 0, 0, 1, 0, 0, 0, 1, 0, 0, 0,\n",
       "       1, 0, 0, 0, 1, 0, 0, 0, 0, 1, 1, 0, 0, 0, 0, 0, 0, 1, 0, 0, 0, 0,\n",
       "       0, 0, 0, 0, 0, 0, 0, 1, 0, 0, 0, 1, 1, 1, 1, 0, 0, 1, 1, 0, 0, 0,\n",
       "       0, 0, 0, 0, 0, 0, 0, 0, 0, 0, 1, 1, 0, 0, 0, 0, 0, 0, 0, 1, 0, 0,\n",
       "       0, 0, 0, 0, 0, 1, 0, 1, 1, 0, 0, 0, 1, 0, 1, 0, 1, 0, 1, 0, 1, 0,\n",
       "       0, 1, 0, 0, 1, 0, 0, 0, 0, 1, 1, 0, 1, 0, 0, 0, 0, 1, 1, 0, 1, 0,\n",
       "       0, 0, 1, 1, 0, 0, 0, 0, 0, 0, 0, 0, 0, 0, 1, 0, 0, 0, 0, 1, 0, 0,\n",
       "       1, 0, 0, 0, 1, 0, 0, 0, 1, 1, 1, 0, 0, 0, 0, 0, 0, 1, 0, 0, 0, 1,\n",
       "       0, 1, 1, 1, 1, 0, 1, 1, 0, 0, 0, 0, 0, 0, 0, 1, 1, 0, 1, 0, 0, 1,\n",
       "       0, 1, 0, 0, 0, 0, 0, 1, 0, 1, 0, 1, 0, 1, 1, 0, 0, 0, 0, 1, 1, 0,\n",
       "       0, 0, 1, 0, 1, 1, 0, 0, 1, 0, 0, 1, 1, 0, 0, 1, 0, 0, 1, 0, 0, 0,\n",
       "       0, 0, 0, 0, 1, 1, 1, 0, 0, 0, 0, 0, 0, 1, 1, 0, 0, 1, 0, 0, 1, 0,\n",
       "       1, 1, 1, 0, 0, 1, 1, 1, 0, 1, 0, 1, 0, 1, 0, 0, 0, 0, 1, 0],\n",
       "      dtype=int64)"
      ]
     },
     "execution_count": 11,
     "metadata": {},
     "output_type": "execute_result"
    }
   ],
   "source": [
    "y=file[\"Outcome\"].values\n",
    "y"
   ]
  },
  {
   "cell_type": "markdown",
   "id": "5b9917a7",
   "metadata": {},
   "source": [
    "# *Split dataset with Stratified shuffle split for training and testing as X_train,X_test,Y_train,Y_test"
   ]
  },
  {
   "cell_type": "code",
   "execution_count": 12,
   "id": "465dae04",
   "metadata": {},
   "outputs": [],
   "source": [
    "from sklearn.model_selection import StratifiedShuffleSplit\n",
    "SS=StratifiedShuffleSplit(n_splits=4,test_size=0.25,random_state=42)"
   ]
  },
  {
   "cell_type": "code",
   "execution_count": 13,
   "id": "d88e573c",
   "metadata": {},
   "outputs": [
    {
     "data": {
      "text/plain": [
       "4"
      ]
     },
     "execution_count": 13,
     "metadata": {},
     "output_type": "execute_result"
    }
   ],
   "source": [
    "SS.get_n_splits(X,y)"
   ]
  },
  {
   "cell_type": "code",
   "execution_count": 14,
   "id": "2f812c3d",
   "metadata": {},
   "outputs": [],
   "source": [
    "from sklearn.model_selection import train_test_split\n",
    "X_train,X_test,y_train,y_test=train_test_split(X,y,stratify=y,test_size=.25,random_state=42)"
   ]
  },
  {
   "cell_type": "markdown",
   "id": "b93f4fcc",
   "metadata": {},
   "source": [
    "# *Create Logistic Regression model,fit on training set and prediction on test set"
   ]
  },
  {
   "cell_type": "code",
   "execution_count": 15,
   "id": "bf49a4a9",
   "metadata": {},
   "outputs": [
    {
     "name": "stderr",
     "output_type": "stream",
     "text": [
      "C:\\ProgramData\\Anaconda3\\lib\\site-packages\\sklearn\\linear_model\\_logistic.py:763: ConvergenceWarning: lbfgs failed to converge (status=1):\n",
      "STOP: TOTAL NO. of ITERATIONS REACHED LIMIT.\n",
      "\n",
      "Increase the number of iterations (max_iter) or scale the data as shown in:\n",
      "    https://scikit-learn.org/stable/modules/preprocessing.html\n",
      "Please also refer to the documentation for alternative solver options:\n",
      "    https://scikit-learn.org/stable/modules/linear_model.html#logistic-regression\n",
      "  n_iter_i = _check_optimize_result(\n"
     ]
    }
   ],
   "source": [
    "from sklearn.linear_model import LogisticRegression\n",
    "LoR=LogisticRegression(penalty='l2',C=10.0)\n",
    "LoR=LoR.fit(X_train,y_train)"
   ]
  },
  {
   "cell_type": "code",
   "execution_count": 16,
   "id": "3155b650",
   "metadata": {},
   "outputs": [
    {
     "data": {
      "text/plain": [
       "array([0, 0, 0, 0, 1, 0, 0, 0, 1, 0, 0, 1, 0, 0, 1, 1, 1, 0, 0, 0, 0, 0,\n",
       "       0, 1, 1, 1, 0, 0, 1, 1, 0, 0, 0, 0, 1, 0, 0, 0, 0, 0, 1, 0, 0, 0,\n",
       "       1, 1, 1, 0, 1, 1, 0, 0, 0, 0, 1, 0, 1, 0, 0, 1, 1, 1, 1, 0, 0, 1,\n",
       "       0, 0, 0, 0, 0, 1, 1, 0, 0, 0, 0, 1, 0, 0, 0, 1, 0, 0, 1, 0, 0, 0,\n",
       "       0, 0, 0, 1, 0, 0, 0, 0, 0, 0, 0, 0, 0, 0, 0, 0, 1, 0, 1, 0, 0, 0,\n",
       "       0, 0, 0, 1, 1, 0, 0, 1, 0, 1, 1, 1, 0, 0, 0, 0, 0, 1, 0, 0, 1, 0,\n",
       "       0, 0, 0, 0, 0, 0, 1, 0, 0, 0, 0, 0, 0, 0, 0, 0, 1, 0, 0, 0, 1, 0,\n",
       "       0, 0, 0, 0, 0, 0, 0, 0, 0, 1, 1, 0, 1, 0, 1, 0, 0, 1, 0, 1, 0, 1,\n",
       "       0, 1, 0, 1, 0, 0, 0, 0, 0, 1, 1, 0, 0, 0, 0, 0], dtype=int64)"
      ]
     },
     "execution_count": 16,
     "metadata": {},
     "output_type": "execute_result"
    }
   ],
   "source": [
    "y_pred=LoR.predict(X_test)\n",
    "y_pred"
   ]
  },
  {
   "cell_type": "markdown",
   "id": "c501fe5b",
   "metadata": {},
   "source": [
    "# Step3.[Prediction on a new sample]"
   ]
  },
  {
   "cell_type": "code",
   "execution_count": 17,
   "id": "c502d9ae",
   "metadata": {},
   "outputs": [
    {
     "name": "stdout",
     "output_type": "stream",
     "text": [
      "Diabetic patient [1]\n"
     ]
    }
   ],
   "source": [
    "new_person=LoR.predict([[6,200,90,10,25,23.3,0.672,42]])\n",
    "if new_person==0:\n",
    "    print(\"Non-Diabetic patient\",new_person)\n",
    "else:\n",
    "    print(\"Diabetic patient\",new_person)"
   ]
  },
  {
   "cell_type": "markdown",
   "id": "9b4e947f",
   "metadata": {},
   "source": [
    "# Step3. [Compute Classification Metrics]"
   ]
  },
  {
   "cell_type": "markdown",
   "id": "f85d23f5",
   "metadata": {},
   "source": [
    "# Accuracy"
   ]
  },
  {
   "cell_type": "code",
   "execution_count": 18,
   "id": "b90ce89d",
   "metadata": {},
   "outputs": [],
   "source": [
    "def accuracy(actual,pred):\n",
    "    return sum(actual==pred)/float(actual.shape[0])"
   ]
  },
  {
   "cell_type": "code",
   "execution_count": 19,
   "id": "24864301",
   "metadata": {},
   "outputs": [
    {
     "data": {
      "text/plain": [
       "0.7291666666666666"
      ]
     },
     "execution_count": 19,
     "metadata": {},
     "output_type": "execute_result"
    }
   ],
   "source": [
    "accuracy_score=accuracy(y_test,y_pred)\n",
    "accuracy_score"
   ]
  },
  {
   "cell_type": "markdown",
   "id": "4000a8b5",
   "metadata": {},
   "source": [
    "# Precision"
   ]
  },
  {
   "cell_type": "code",
   "execution_count": 20,
   "id": "239390c8",
   "metadata": {},
   "outputs": [
    {
     "name": "stdout",
     "output_type": "stream",
     "text": [
      "0.6363636363636364\n"
     ]
    }
   ],
   "source": [
    "from sklearn.metrics import precision_score\n",
    "print(precision_score(y_test,y_pred))"
   ]
  },
  {
   "cell_type": "markdown",
   "id": "c92302da",
   "metadata": {},
   "source": [
    "# Recall"
   ]
  },
  {
   "cell_type": "code",
   "execution_count": 21,
   "id": "168584a7",
   "metadata": {},
   "outputs": [
    {
     "name": "stdout",
     "output_type": "stream",
     "text": [
      "0.5223880597014925\n"
     ]
    }
   ],
   "source": [
    "from sklearn.metrics import recall_score\n",
    "print(recall_score(y_test,y_pred))"
   ]
  },
  {
   "cell_type": "markdown",
   "id": "cd27fd1c",
   "metadata": {},
   "source": [
    "# AUC Scores"
   ]
  },
  {
   "cell_type": "code",
   "execution_count": 22,
   "id": "7f7d4a8b",
   "metadata": {},
   "outputs": [
    {
     "name": "stdout",
     "output_type": "stream",
     "text": [
      "0.6811940298507462\n"
     ]
    }
   ],
   "source": [
    "from sklearn.metrics import roc_auc_score\n",
    "print(roc_auc_score(y_test,y_pred))"
   ]
  },
  {
   "cell_type": "markdown",
   "id": "4d48c374",
   "metadata": {},
   "source": [
    "# Step4. [Understand Correlation]"
   ]
  },
  {
   "cell_type": "markdown",
   "id": "0ea7bd42",
   "metadata": {},
   "source": [
    "# *Create Confusion matrix between y_test and y_pred and plot confusion matrix values"
   ]
  },
  {
   "cell_type": "code",
   "execution_count": 23,
   "id": "6801cd5a",
   "metadata": {},
   "outputs": [
    {
     "data": {
      "text/plain": [
       "array([[105,  20],\n",
       "       [ 32,  35]], dtype=int64)"
      ]
     },
     "execution_count": 23,
     "metadata": {},
     "output_type": "execute_result"
    }
   ],
   "source": [
    "from sklearn.metrics import confusion_matrix\n",
    "cfm=confusion_matrix(y_test,y_pred)\n",
    "cfm"
   ]
  },
  {
   "cell_type": "code",
   "execution_count": 24,
   "id": "82ab00d9",
   "metadata": {},
   "outputs": [
    {
     "data": {
      "text/plain": [
       "<AxesSubplot:>"
      ]
     },
     "execution_count": 24,
     "metadata": {},
     "output_type": "execute_result"
    },
    {
     "data": {
      "image/png": "[encoded data removed]",
      "text/plain": [
       "<Figure size 432x288 with 2 Axes>"
      ]
     },
     "metadata": {
      "needs_background": "light"
     },
     "output_type": "display_data"
    }
   ],
   "source": [
    "import seaborn as sns\n",
    "sns.heatmap(cfm,annot= True)"
   ]
  },
  {
   "cell_type": "markdown",
   "id": "b864e303",
   "metadata": {},
   "source": [
    "# Step5.[Normalization using Minmaxscaler and rebuild LoR]"
   ]
  },
  {
   "cell_type": "markdown",
   "id": "a039b2b0",
   "metadata": {},
   "source": [
    "# *Normalize using MinMaxscaler"
   ]
  },
  {
   "cell_type": "code",
   "execution_count": 25,
   "id": "db8b0ccf",
   "metadata": {},
   "outputs": [
    {
     "data": {
      "text/plain": [
       "array([[0.05882353, 0.6080402 , 0.63934426, ..., 0.58122206, 0.07884187,\n",
       "        0.11666667],\n",
       "       [0.70588235, 0.44221106, 0.60655738, ..., 0.52608048, 0.13095768,\n",
       "        0.45      ],\n",
       "       [0.05882353, 0.54271357, 0.49180328, ..., 0.5290611 , 0.14743875,\n",
       "        0.05      ],\n",
       "       ...,\n",
       "       [0.05882353, 0.48743719, 0.57377049, ..., 0.56780924, 0.0596882 ,\n",
       "        0.15      ],\n",
       "       [0.52941176, 0.7839196 , 0.70491803, ..., 0.51117735, 0.4922049 ,\n",
       "        0.35      ],\n",
       "       [0.23529412, 0.72361809, 0.47540984, ..., 0.43964232, 0.09042316,\n",
       "        0.26666667]])"
      ]
     },
     "execution_count": 25,
     "metadata": {},
     "output_type": "execute_result"
    }
   ],
   "source": [
    "from sklearn.preprocessing import MinMaxScaler\n",
    "mm=MinMaxScaler()\n",
    "mm_X_train=mm.fit_transform(X_train)\n",
    "mm_X_train"
   ]
  },
  {
   "cell_type": "code",
   "execution_count": 26,
   "id": "19541619",
   "metadata": {},
   "outputs": [
    {
     "data": {
      "text/plain": [
       "array([[0.86666667, 0.52791878, 0.67924528, ..., 0.52525253, 0.16524338,\n",
       "        0.36170213],\n",
       "       [0.26666667, 0.64467005, 0.83018868, ..., 0.58080808, 0.22203245,\n",
       "        0.14893617],\n",
       "       [0.13333333, 0.47715736, 0.71698113, ..., 0.53198653, 0.24380871,\n",
       "        0.04255319],\n",
       "       ...,\n",
       "       [0.        , 0.53807107, 0.66037736, ..., 0.66329966, 0.22502135,\n",
       "        0.0212766 ],\n",
       "       [0.33333333, 0.62944162, 0.69811321, ..., 0.57239057, 0.06063194,\n",
       "        0.36170213],\n",
       "       [0.2       , 0.64974619, 0.67924528, ..., 0.54545455, 0.20111016,\n",
       "        0.12765957]])"
      ]
     },
     "execution_count": 26,
     "metadata": {},
     "output_type": "execute_result"
    }
   ],
   "source": [
    "mm_X_test=mm.fit_transform(X_test)\n",
    "mm_X_test"
   ]
  },
  {
   "cell_type": "markdown",
   "id": "4f245004",
   "metadata": {},
   "source": [
    "# *Create new Logistic Regression Model"
   ]
  },
  {
   "cell_type": "code",
   "execution_count": 27,
   "id": "a455a903",
   "metadata": {},
   "outputs": [],
   "source": [
    "mm_lor=LogisticRegression()\n",
    "mm_lor=mm_lor.fit(mm_X_train,y_train)"
   ]
  },
  {
   "cell_type": "code",
   "execution_count": 28,
   "id": "19e755c2",
   "metadata": {},
   "outputs": [
    {
     "data": {
      "text/plain": [
       "array([1, 0, 0, 1, 1, 0, 0, 0, 1, 0, 0, 1, 0, 0, 1, 1, 0, 0, 0, 0, 0, 0,\n",
       "       0, 1, 1, 1, 0, 0, 1, 1, 1, 0, 0, 0, 1, 0, 0, 0, 0, 0, 1, 0, 0, 1,\n",
       "       1, 1, 1, 0, 1, 1, 0, 1, 0, 0, 1, 1, 1, 0, 0, 1, 1, 1, 1, 0, 0, 1,\n",
       "       0, 0, 0, 0, 1, 1, 1, 0, 0, 0, 0, 1, 0, 0, 0, 1, 0, 0, 1, 0, 0, 0,\n",
       "       0, 0, 0, 1, 0, 0, 0, 0, 0, 0, 0, 0, 1, 1, 0, 0, 1, 0, 1, 0, 0, 0,\n",
       "       0, 0, 0, 1, 1, 0, 1, 0, 0, 1, 1, 1, 0, 0, 0, 0, 0, 1, 0, 0, 1, 0,\n",
       "       1, 0, 0, 0, 0, 0, 1, 0, 0, 0, 1, 0, 0, 0, 0, 0, 1, 0, 0, 1, 1, 0,\n",
       "       1, 0, 0, 0, 0, 0, 0, 0, 0, 1, 0, 0, 1, 0, 1, 0, 0, 1, 0, 1, 0, 1,\n",
       "       0, 1, 0, 1, 0, 0, 0, 1, 0, 1, 1, 0, 0, 0, 0, 0], dtype=int64)"
      ]
     },
     "execution_count": 28,
     "metadata": {},
     "output_type": "execute_result"
    }
   ],
   "source": [
    "mm_y_pred=mm_lor.predict(mm_X_test)\n",
    "mm_y_pred"
   ]
  },
  {
   "cell_type": "markdown",
   "id": "390f16dc",
   "metadata": {},
   "source": [
    "# Accuracy"
   ]
  },
  {
   "cell_type": "code",
   "execution_count": 29,
   "id": "add828a6",
   "metadata": {},
   "outputs": [],
   "source": [
    "def accuracy(actual,pred):\n",
    "    return sum(actual==pred)/float(actual.shape[0])"
   ]
  },
  {
   "cell_type": "code",
   "execution_count": 30,
   "id": "45d7d8d3",
   "metadata": {},
   "outputs": [
    {
     "data": {
      "text/plain": [
       "0.71875"
      ]
     },
     "execution_count": 30,
     "metadata": {},
     "output_type": "execute_result"
    }
   ],
   "source": [
    "accuracy_score=accuracy(y_test,mm_y_pred)\n",
    "accuracy_score"
   ]
  },
  {
   "cell_type": "markdown",
   "id": "7dd20ca3",
   "metadata": {},
   "source": [
    "# Precision"
   ]
  },
  {
   "cell_type": "code",
   "execution_count": 31,
   "id": "9c993023",
   "metadata": {},
   "outputs": [
    {
     "name": "stdout",
     "output_type": "stream",
     "text": [
      "0.5970149253731343\n"
     ]
    }
   ],
   "source": [
    "print(precision_score(y_test,mm_y_pred))"
   ]
  },
  {
   "cell_type": "markdown",
   "id": "700bcde5",
   "metadata": {},
   "source": [
    "# Recall"
   ]
  },
  {
   "cell_type": "code",
   "execution_count": 32,
   "id": "842371c3",
   "metadata": {},
   "outputs": [
    {
     "name": "stdout",
     "output_type": "stream",
     "text": [
      "0.5970149253731343\n"
     ]
    }
   ],
   "source": [
    "print(recall_score(y_test,mm_y_pred))"
   ]
  },
  {
   "cell_type": "markdown",
   "id": "cddeb790",
   "metadata": {},
   "source": [
    "# Auc scores"
   ]
  },
  {
   "cell_type": "code",
   "execution_count": 33,
   "id": "b3df7ba1",
   "metadata": {},
   "outputs": [
    {
     "name": "stdout",
     "output_type": "stream",
     "text": [
      "0.6905074626865673\n"
     ]
    }
   ],
   "source": [
    "print(roc_auc_score(y_test,mm_y_pred))"
   ]
  },
  {
   "cell_type": "markdown",
   "id": "e7f808b2",
   "metadata": {},
   "source": [
    "# Step-6: [Normalization using StandardScaler and rebuild LOR]"
   ]
  },
  {
   "cell_type": "markdown",
   "id": "edcb3e5c",
   "metadata": {},
   "source": [
    "# *Repeat step5 with Standard scaler"
   ]
  },
  {
   "cell_type": "code",
   "execution_count": 34,
   "id": "20d197f0",
   "metadata": {},
   "outputs": [
    {
     "data": {
      "text/plain": [
       "array([[-0.85547074,  0.00732864,  0.47259835, ...,  0.88301955,\n",
       "        -0.65845729, -0.46648591],\n",
       "       [ 2.46780492, -1.03224482,  0.2585074 , ...,  0.41193433,\n",
       "        -0.30699915,  1.21865604],\n",
       "       [-0.85547074, -0.4022003 , -0.49081095, ...,  0.43739839,\n",
       "        -0.19585426, -0.8035143 ],\n",
       "       ...,\n",
       "       [-0.85547074, -0.74872478,  0.04441644, ...,  0.76843126,\n",
       "        -0.78762567, -0.29797171],\n",
       "       [ 1.56145701,  1.10990656,  0.90078026, ...,  0.28461399,\n",
       "         2.12917653,  0.71311346],\n",
       "       [ 0.05087717,  0.73187984, -0.59785643, ..., -0.3265236 ,\n",
       "        -0.58035548,  0.29182797]])"
      ]
     },
     "execution_count": 34,
     "metadata": {},
     "output_type": "execute_result"
    }
   ],
   "source": [
    "from sklearn.preprocessing import StandardScaler\n",
    "ss=StandardScaler()\n",
    "ss_X_train=ss.fit_transform(X_train)\n",
    "ss_X_train"
   ]
  },
  {
   "cell_type": "code",
   "execution_count": 35,
   "id": "53827b54",
   "metadata": {},
   "outputs": [
    {
     "data": {
      "text/plain": [
       "array([[ 2.76992089, -0.5282092 ,  0.15146192, ..., -0.11007904,\n",
       "        -0.04565848,  0.37608507],\n",
       "       [ 0.05087717,  0.196342  ,  1.00782574, ...,  0.31007806,\n",
       "         0.35386232, -0.46648591],\n",
       "       [-0.55335477, -0.84323146,  0.36555287, ..., -0.0591509 ,\n",
       "         0.50706202, -0.8877714 ],\n",
       "       ...,\n",
       "       [-1.15758671, -0.46520475,  0.04441644, ...,  0.93394769,\n",
       "         0.37488973, -0.97202849],\n",
       "       [ 0.35299314,  0.10183532,  0.2585074 , ...,  0.24641789,\n",
       "        -0.78161784,  0.37608507],\n",
       "       [-0.2512388 ,  0.22784423,  0.15146192, ...,  0.04270536,\n",
       "         0.20667045, -0.55074301]])"
      ]
     },
     "execution_count": 35,
     "metadata": {},
     "output_type": "execute_result"
    }
   ],
   "source": [
    "ss_X_test=ss.transform(X_test)\n",
    "ss_X_test"
   ]
  },
  {
   "cell_type": "code",
   "execution_count": 36,
   "id": "7d48a580",
   "metadata": {},
   "outputs": [],
   "source": [
    "#Rebuild LOR\n",
    "ss_lor=LogisticRegression()\n",
    "ss_lor.fit(ss_X_train,y_train)\n",
    "ss_y_pred=ss_lor.predict(ss_X_test)"
   ]
  },
  {
   "cell_type": "markdown",
   "id": "08ba766c",
   "metadata": {},
   "source": [
    "# Accuracy"
   ]
  },
  {
   "cell_type": "code",
   "execution_count": 37,
   "id": "82279df5",
   "metadata": {},
   "outputs": [],
   "source": [
    "def accuracy(actual,pred):\n",
    "    return sum(actual==pred)/float(actual.shape[0])"
   ]
  },
  {
   "cell_type": "code",
   "execution_count": 38,
   "id": "dfb03dcd",
   "metadata": {},
   "outputs": [
    {
     "data": {
      "text/plain": [
       "0.734375"
      ]
     },
     "execution_count": 38,
     "metadata": {},
     "output_type": "execute_result"
    }
   ],
   "source": [
    "ss_accuracy_score=accuracy(y_test,ss_y_pred)\n",
    "ss_accuracy_score"
   ]
  },
  {
   "cell_type": "markdown",
   "id": "532b70cc",
   "metadata": {},
   "source": [
    "# Precision"
   ]
  },
  {
   "cell_type": "code",
   "execution_count": 39,
   "id": "71836c8e",
   "metadata": {},
   "outputs": [
    {
     "name": "stdout",
     "output_type": "stream",
     "text": [
      "0.6481481481481481\n"
     ]
    }
   ],
   "source": [
    "print(precision_score(y_test,ss_y_pred))"
   ]
  },
  {
   "cell_type": "markdown",
   "id": "a18fb28f",
   "metadata": {},
   "source": [
    "# Recall"
   ]
  },
  {
   "cell_type": "code",
   "execution_count": 40,
   "id": "60911158",
   "metadata": {},
   "outputs": [
    {
     "name": "stdout",
     "output_type": "stream",
     "text": [
      "0.5223880597014925\n"
     ]
    }
   ],
   "source": [
    "print(recall_score(y_test,ss_y_pred))"
   ]
  },
  {
   "cell_type": "markdown",
   "id": "51daa7c6",
   "metadata": {},
   "source": [
    "# AUC score"
   ]
  },
  {
   "cell_type": "code",
   "execution_count": 41,
   "id": "b6cb80cf",
   "metadata": {},
   "outputs": [
    {
     "name": "stdout",
     "output_type": "stream",
     "text": [
      "0.6851940298507463\n"
     ]
    }
   ],
   "source": [
    "auc_ss=print(roc_auc_score(y_test,ss_y_pred))\n",
    "auc_ss"
   ]
  },
  {
   "cell_type": "markdown",
   "id": "016348fb",
   "metadata": {},
   "source": [
    "# Step-7. [Plot ROC Curve]"
   ]
  },
  {
   "cell_type": "code",
   "execution_count": 42,
   "id": "9ef72fac",
   "metadata": {},
   "outputs": [],
   "source": [
    "pred_prob1=mm_lor.predict_proba(mm_X_test)"
   ]
  },
  {
   "cell_type": "code",
   "execution_count": 43,
   "id": "148ad7e6",
   "metadata": {},
   "outputs": [],
   "source": [
    "from sklearn.metrics import roc_curve\n",
    "fpr1, tpr1, thresh1 = roc_curve(y_test, pred_prob1[:,1], pos_label=1)"
   ]
  },
  {
   "cell_type": "code",
   "execution_count": 44,
   "id": "4b173963",
   "metadata": {},
   "outputs": [
    {
     "data": {
      "text/plain": [
       "[<matplotlib.lines.Line2D at 0x1ec6db093d0>]"
      ]
     },
     "execution_count": 44,
     "metadata": {},
     "output_type": "execute_result"
    },
    {
     "data": {
      "image/png": "[encoded data removed]",
      "text/plain": [
       "<Figure size 432x288 with 1 Axes>"
      ]
     },
     "metadata": {
      "needs_background": "light"
     },
     "output_type": "display_data"
    }
   ],
   "source": [
    "import matplotlib.pyplot as plt\n",
    "plt.plot(fpr1,tpr1,linestyle='-',color='blue',label='MinMaxScaler values')"
   ]
  },
  {
   "cell_type": "markdown",
   "id": "bf65052e",
   "metadata": {},
   "source": [
    "# Step8.[Comparison with KNN classifier]"
   ]
  },
  {
   "cell_type": "code",
   "execution_count": 45,
   "id": "1df5b978",
   "metadata": {},
   "outputs": [],
   "source": [
    "from sklearn.neighbors import KNeighborsClassifier\n",
    "Knn=KNeighborsClassifier(n_neighbors=4)\n",
    "Knn=Knn.fit(X_train,y_train)"
   ]
  },
  {
   "cell_type": "code",
   "execution_count": 46,
   "id": "0bf6d7d6",
   "metadata": {},
   "outputs": [],
   "source": [
    "Knn_y_pred=Knn.predict(X_test)"
   ]
  },
  {
   "cell_type": "code",
   "execution_count": 47,
   "id": "b16d2435",
   "metadata": {},
   "outputs": [
    {
     "data": {
      "text/plain": [
       "array([[0.05882353, 0.6080402 , 0.63934426, ..., 0.58122206, 0.07884187,\n",
       "        0.11666667],\n",
       "       [0.70588235, 0.44221106, 0.60655738, ..., 0.52608048, 0.13095768,\n",
       "        0.45      ],\n",
       "       [0.05882353, 0.54271357, 0.49180328, ..., 0.5290611 , 0.14743875,\n",
       "        0.05      ],\n",
       "       ...,\n",
       "       [0.05882353, 0.48743719, 0.57377049, ..., 0.56780924, 0.0596882 ,\n",
       "        0.15      ],\n",
       "       [0.52941176, 0.7839196 , 0.70491803, ..., 0.51117735, 0.4922049 ,\n",
       "        0.35      ],\n",
       "       [0.23529412, 0.72361809, 0.47540984, ..., 0.43964232, 0.09042316,\n",
       "        0.26666667]])"
      ]
     },
     "execution_count": 47,
     "metadata": {},
     "output_type": "execute_result"
    }
   ],
   "source": [
    "from sklearn.preprocessing import MinMaxScaler\n",
    "m=MinMaxScaler()\n",
    "m_X_train=m.fit_transform(X_train)\n",
    "m_X_train"
   ]
  },
  {
   "cell_type": "code",
   "execution_count": 48,
   "id": "960bbcd6",
   "metadata": {},
   "outputs": [
    {
     "data": {
      "text/plain": [
       "array([[0.76470588, 0.52261307, 0.59016393, ..., 0.46497765, 0.16971047,\n",
       "        0.28333333],\n",
       "       [0.23529412, 0.63819095, 0.72131148, ..., 0.51415797, 0.22895323,\n",
       "        0.11666667],\n",
       "       [0.11764706, 0.47236181, 0.62295082, ..., 0.4709389 , 0.25167038,\n",
       "        0.03333333],\n",
       "       ...,\n",
       "       [0.        , 0.53266332, 0.57377049, ..., 0.58718331, 0.23207127,\n",
       "        0.01666667],\n",
       "       [0.29411765, 0.62311558, 0.60655738, ..., 0.50670641, 0.06057906,\n",
       "        0.28333333],\n",
       "       [0.17647059, 0.64321608, 0.59016393, ..., 0.4828614 , 0.20712695,\n",
       "        0.1       ]])"
      ]
     },
     "execution_count": 48,
     "metadata": {},
     "output_type": "execute_result"
    }
   ],
   "source": [
    "m_X_test=m.transform(X_test)\n",
    "m_X_test"
   ]
  },
  {
   "cell_type": "code",
   "execution_count": 49,
   "id": "8929c764",
   "metadata": {},
   "outputs": [],
   "source": [
    "m_knn=KNeighborsClassifier()\n",
    "m_knn=m_knn.fit(m_X_train,y_train)"
   ]
  },
  {
   "cell_type": "code",
   "execution_count": 50,
   "id": "61564c1e",
   "metadata": {},
   "outputs": [
    {
     "data": {
      "text/plain": [
       "array([0, 0, 0, 0, 1, 0, 0, 1, 1, 0, 0, 1, 0, 0, 0, 1, 1, 0, 0, 0, 0, 0,\n",
       "       0, 1, 1, 1, 0, 0, 1, 1, 0, 0, 0, 0, 1, 0, 1, 0, 0, 0, 1, 0, 0, 1,\n",
       "       1, 0, 1, 0, 1, 1, 0, 0, 1, 0, 0, 1, 0, 0, 0, 1, 1, 1, 1, 0, 0, 1,\n",
       "       0, 1, 0, 1, 0, 0, 1, 0, 0, 0, 1, 1, 0, 0, 0, 1, 0, 0, 1, 1, 0, 0,\n",
       "       0, 0, 0, 1, 0, 0, 0, 0, 0, 0, 0, 0, 0, 1, 0, 0, 1, 0, 0, 1, 1, 0,\n",
       "       0, 0, 0, 1, 1, 0, 0, 0, 0, 1, 1, 1, 0, 0, 0, 1, 0, 0, 0, 0, 1, 1,\n",
       "       1, 0, 0, 0, 0, 0, 1, 0, 0, 0, 0, 0, 0, 0, 0, 0, 1, 0, 0, 1, 1, 0,\n",
       "       0, 1, 0, 0, 0, 0, 0, 0, 0, 0, 1, 0, 0, 0, 1, 0, 0, 1, 0, 0, 0, 1,\n",
       "       0, 1, 0, 1, 0, 0, 0, 1, 0, 1, 1, 0, 0, 0, 0, 0], dtype=int64)"
      ]
     },
     "execution_count": 50,
     "metadata": {},
     "output_type": "execute_result"
    }
   ],
   "source": [
    "m_y_pred=m_knn.predict(m_X_test)\n",
    "m_y_pred"
   ]
  },
  {
   "cell_type": "markdown",
   "id": "7b4a91e1",
   "metadata": {},
   "source": [
    "# Classification Metrics"
   ]
  },
  {
   "cell_type": "markdown",
   "id": "72abfbfe",
   "metadata": {},
   "source": [
    "# Accuracy"
   ]
  },
  {
   "cell_type": "code",
   "execution_count": 51,
   "id": "8c51b8a6",
   "metadata": {},
   "outputs": [
    {
     "data": {
      "text/plain": [
       "0.703125"
      ]
     },
     "execution_count": 51,
     "metadata": {},
     "output_type": "execute_result"
    }
   ],
   "source": [
    "def accuracy(actual,pred):\n",
    "    return sum(actual==pred)/float(actual.shape[0])\n",
    "\n",
    "m_accuracy_score=accuracy(y_test,m_y_pred)\n",
    "m_accuracy_score"
   ]
  },
  {
   "cell_type": "markdown",
   "id": "9ae39ea9",
   "metadata": {},
   "source": [
    "# Precision"
   ]
  },
  {
   "cell_type": "code",
   "execution_count": 52,
   "id": "24b618ad",
   "metadata": {},
   "outputs": [
    {
     "name": "stdout",
     "output_type": "stream",
     "text": [
      "0.5806451612903226\n"
     ]
    }
   ],
   "source": [
    "print(precision_score(y_test,m_y_pred))"
   ]
  },
  {
   "cell_type": "markdown",
   "id": "4e18afe9",
   "metadata": {},
   "source": [
    "# Recall"
   ]
  },
  {
   "cell_type": "code",
   "execution_count": 53,
   "id": "b144f858",
   "metadata": {},
   "outputs": [
    {
     "name": "stdout",
     "output_type": "stream",
     "text": [
      "0.5373134328358209\n"
     ]
    }
   ],
   "source": [
    "print(recall_score(y_test,m_y_pred))"
   ]
  },
  {
   "cell_type": "markdown",
   "id": "bb68de03",
   "metadata": {},
   "source": [
    "# AUC score"
   ]
  },
  {
   "cell_type": "code",
   "execution_count": 54,
   "id": "0812fd53",
   "metadata": {},
   "outputs": [
    {
     "name": "stdout",
     "output_type": "stream",
     "text": [
      "0.6646567164179105\n"
     ]
    }
   ],
   "source": [
    "knn_auc=print(roc_auc_score(y_test,m_y_pred))"
   ]
  },
  {
   "cell_type": "markdown",
   "id": "783aeb6e",
   "metadata": {},
   "source": [
    "# Step9.[Update ROC curve]"
   ]
  },
  {
   "cell_type": "code",
   "execution_count": 55,
   "id": "2aa8a4e5",
   "metadata": {},
   "outputs": [],
   "source": [
    "pred_prob2=m_knn.predict_proba(m_X_test)"
   ]
  },
  {
   "cell_type": "code",
   "execution_count": 56,
   "id": "c0c7cd8b",
   "metadata": {},
   "outputs": [],
   "source": [
    "from sklearn.metrics import roc_curve\n",
    "fpr2,tpr2,thresh2=roc_curve(y_test,pred_prob2[:,1],pos_label=1)"
   ]
  },
  {
   "cell_type": "code",
   "execution_count": 57,
   "id": "1b5ea4a8",
   "metadata": {},
   "outputs": [
    {
     "data": {
      "image/png": "[encoded data removed]",
      "text/plain": [
       "<Figure size 432x288 with 1 Axes>"
      ]
     },
     "metadata": {
      "needs_background": "light"
     },
     "output_type": "display_data"
    }
   ],
   "source": [
    "# import matplotlib.pyplot as plt\n",
    "plt.plot(fpr1,tpr1,linestyle='-',color='blue',label='MinMaxScaler values')\n",
    "plt.plot(fpr2,tpr2,linestyle='-',color='red',label='KNN Classifier')\n",
    "plt.title('ROC Curve')\n",
    "plt.legend(loc='best')\n",
    "plt.savefig('ROC',dpi=300)\n",
    "plt.show()"
   ]
  },
  {
   "cell_type": "markdown",
   "id": "a72229fe",
   "metadata": {},
   "source": [
    "# Step10.[Regularization]"
   ]
  },
  {
   "cell_type": "code",
   "execution_count": 58,
   "id": "e8582f40",
   "metadata": {},
   "outputs": [],
   "source": [
    "from sklearn.linear_model import LogisticRegressionCV\n",
    "model1=LogisticRegressionCV(Cs=10,cv=4,penalty='l1',solver='liblinear')\n",
    "model2=LogisticRegressionCV(Cs=10,cv=4,penalty='l2')"
   ]
  },
  {
   "cell_type": "code",
   "execution_count": 59,
   "id": "474cfe3a",
   "metadata": {},
   "outputs": [
    {
     "data": {
      "text/plain": [
       "LogisticRegressionCV(cv=4)"
      ]
     },
     "execution_count": 59,
     "metadata": {},
     "output_type": "execute_result"
    }
   ],
   "source": [
    "model1.fit(mm_X_train,y_train)\n",
    "model2.fit(mm_X_train,y_train)"
   ]
  },
  {
   "cell_type": "code",
   "execution_count": 60,
   "id": "cf332d24",
   "metadata": {},
   "outputs": [],
   "source": [
    "rg_y_pred1 = model1.predict(mm_X_test)\n",
    "rg_y_pred2 = model2.predict(mm_X_test)"
   ]
  },
  {
   "cell_type": "markdown",
   "id": "8f68341d",
   "metadata": {},
   "source": [
    "# AUC SCORE OF L1"
   ]
  },
  {
   "cell_type": "code",
   "execution_count": 61,
   "id": "afddc2b6",
   "metadata": {},
   "outputs": [
    {
     "data": {
      "text/plain": [
       "(' LOR L1 MINMAX AUC', 0.7243582089552238)"
      ]
     },
     "execution_count": 61,
     "metadata": {},
     "output_type": "execute_result"
    }
   ],
   "source": [
    "from sklearn.metrics import roc_auc_score\n",
    "l1_auc = roc_auc_score(y_test, rg_y_pred1)\n",
    "l1_auc = (' LOR L1 MINMAX AUC', l1_auc)\n",
    "l1_auc"
   ]
  },
  {
   "cell_type": "markdown",
   "id": "93500f79",
   "metadata": {},
   "source": [
    "# AUC SCORE OF L2"
   ]
  },
  {
   "cell_type": "code",
   "execution_count": 62,
   "id": "855f2e43",
   "metadata": {},
   "outputs": [
    {
     "data": {
      "text/plain": [
       "(' LOR L2 MINMAX AUC', 0.7243582089552238)"
      ]
     },
     "execution_count": 62,
     "metadata": {},
     "output_type": "execute_result"
    }
   ],
   "source": [
    "from sklearn.metrics import roc_auc_score\n",
    "l2_auc = roc_auc_score(y_test, rg_y_pred2)\n",
    "l2_auc = (' LOR L2 MINMAX AUC', l2_auc)\n",
    "l2_auc"
   ]
  },
  {
   "cell_type": "markdown",
   "id": "c12fdc02",
   "metadata": {},
   "source": [
    "# Step11.[Update ROC curve]"
   ]
  },
  {
   "cell_type": "code",
   "execution_count": 63,
   "id": "b629bf27",
   "metadata": {},
   "outputs": [],
   "source": [
    "pred_prb7 = model1.predict_proba(mm_X_test)\n",
    "pred_prb8 = model2.predict_proba(mm_X_test)\n",
    "fpr,tbr,threshold = roc_curve(y_test, pred_prob1[:,1],pos_label=1)\n",
    "fpr1,tbr1,threshold1 = roc_curve(y_test, pred_prob2[:,1],pos_label=1)\n",
    "fpr2,tbr2,threshold2= roc_curve(y_test, pred_prb7[:,1],pos_label=1)\n",
    "fpr3,tbr3,threshold3 = roc_curve(y_test, pred_prb8[:,1],pos_label=1)"
   ]
  },
  {
   "cell_type": "code",
   "execution_count": 64,
   "id": "6b6d94da",
   "metadata": {},
   "outputs": [
    {
     "name": "stderr",
     "output_type": "stream",
     "text": [
      "C:\\Users\\1MSCDS~1\\AppData\\Local\\Temp/ipykernel_11440/2711431716.py:5: MatplotlibDeprecationWarning: The 's' parameter of annotate() has been renamed 'text' since Matplotlib 3.3; support for the old name will be dropped two minor releases later.\n",
      "  plt.annotate(xy=[0.5,0.3], s=auc_ss)\n",
      "C:\\Users\\1MSCDS~1\\AppData\\Local\\Temp/ipykernel_11440/2711431716.py:6: MatplotlibDeprecationWarning: The 's' parameter of annotate() has been renamed 'text' since Matplotlib 3.3; support for the old name will be dropped two minor releases later.\n",
      "  plt.annotate(xy=[0.5,0.2], s=knn_auc)\n",
      "C:\\Users\\1MSCDS~1\\AppData\\Local\\Temp/ipykernel_11440/2711431716.py:7: MatplotlibDeprecationWarning: The 's' parameter of annotate() has been renamed 'text' since Matplotlib 3.3; support for the old name will be dropped two minor releases later.\n",
      "  plt.annotate(xy=[0.5,0.1], s=l1_auc)\n",
      "C:\\Users\\1MSCDS~1\\AppData\\Local\\Temp/ipykernel_11440/2711431716.py:8: MatplotlibDeprecationWarning: The 's' parameter of annotate() has been renamed 'text' since Matplotlib 3.3; support for the old name will be dropped two minor releases later.\n",
      "  plt.annotate(xy=[0.7,0], s=l2_auc)\n"
     ]
    },
    {
     "data": {
      "image/png": "[encoded data removed]",
      "text/plain": [
       "<Figure size 432x288 with 1 Axes>"
      ]
     },
     "metadata": {
      "needs_background": "light"
     },
     "output_type": "display_data"
    }
   ],
   "source": [
    "plt.plot(fpr, tbr, linestyle='-', color='blue', label='LogisticRegression')\n",
    "plt.plot(fpr1, tbr1, linestyle='-', color='red', label='KNN')\n",
    "plt.plot(fpr3, tbr3, linestyle='-', color='green', label='l2')\n",
    "plt.plot(fpr2, tbr2, linestyle='-', color='black', label='l1')\n",
    "plt.annotate(xy=[0.5,0.3], s=auc_ss)\n",
    "plt.annotate(xy=[0.5,0.2], s=knn_auc)\n",
    "plt.annotate(xy=[0.5,0.1], s=l1_auc)\n",
    "plt.annotate(xy=[0.7,0], s=l2_auc)\n",
    "plt.title('Receiver Operating Characteristic')\n",
    "plt.legend(loc = 'best')\n",
    "plt.ylabel('True Positive Rate')\n",
    "plt.xlabel('False Positive Rate')\n",
    "plt.show()"
   ]
  },
  {
   "cell_type": "code",
   "execution_count": null,
   "id": "b640a653",
   "metadata": {},
   "outputs": [],
   "source": []
  }
 ],
 "metadata": {
  "kernelspec": {
   "display_name": "Python 3 (ipykernel)",
   "language": "python",
   "name": "python3"
  },
  "language_info": {
   "codemirror_mode": {
    "name": "ipython",
    "version": 3
   },
   "file_extension": ".py",
   "mimetype": "text/x-python",
   "name": "python",
   "nbconvert_exporter": "python",
   "pygments_lexer": "ipython3",
   "version": "3.9.12"
  }
 },
 "nbformat": 4,
 "nbformat_minor": 5
}
